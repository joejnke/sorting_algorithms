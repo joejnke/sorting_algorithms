{
 "cells": [
  {
   "cell_type": "code",
   "execution_count": 17,
   "metadata": {
    "collapsed": true
   },
   "outputs": [],
   "source": [
    "import numpy as np\n",
    "import time "
   ]
  },
  {
   "cell_type": "code",
   "execution_count": 52,
   "metadata": {
    "collapsed": true
   },
   "outputs": [],
   "source": [
    "#implementation of insertion sort algorithm\n",
    "def insertion_sort(unsorted_is):\n",
    "    for j in range(1, unsorted_is.shape[0]):\n",
    "        key = unsorted_is[j]\n",
    "        i = j-1\n",
    "        while i>-1 and unsorted_is[i]>=key:\n",
    "            unsorted_is[i+1] = unsorted_is[i]\n",
    "            i-=1\n",
    "            \n",
    "        unsorted_is[i+1] = key\n",
    "    \n",
    "    return unsorted_is"
   ]
  },
  {
   "cell_type": "code",
   "execution_count": 53,
   "metadata": {
    "scrolled": true
   },
   "outputs": [
    {
     "name": "stdout",
     "output_type": "stream",
     "text": [
      "[6 1 1 9 8]\n",
      "[1 1 6 8 9]\n",
      "sorted in 0.00015163421630859375 seconds\n"
     ]
    }
   ],
   "source": [
    "##test for insertion sort algorithm implementation\n",
    "array_size = 5\n",
    "array_end = 10\n",
    "array_start = 1\n",
    "ins_sort = np.random.randint(array_start, high= array_end, size= array_size)#np.array([1,4,5,2,9,3])\n",
    "print (ins_sort)\n",
    "\n",
    "start_time = time.time()\n",
    "ins_sort = insertion_sort(ins_sort)\n",
    "end_time = time.time()\n",
    "ins_sort_run_time = end_time - start_time\n",
    "\n",
    "print (ins_sort)\n",
    "print (\"sorted in %s seconds\" %(ins_sort_run_time))"
   ]
  },
  {
   "cell_type": "code",
   "execution_count": 75,
   "metadata": {
    "scrolled": true
   },
   "outputs": [],
   "source": [
    "#implementation of selection sort algorithm\n",
    "def selection_sort(unsorted_ss):\n",
    "    for i in range(unsorted_ss.shape[0] - 1):\n",
    "        lowindex = i #unsorted_ss_min = unsorted_ss[i]\n",
    "        for j in reversed(range(i + 1, unsorted_ss.shape[0])):\n",
    "            if unsorted_ss[j]<unsorted_ss[lowindex]:\n",
    "                lowindex=j #unsorted_ss[i] = unsorted_ss[j]\n",
    "                #unsorted_ss[j] = unsorted_ss_min\n",
    "        unsorted_ss[i], unsorted_ss[lowindex] = unsorted_ss[lowindex], unsorted_ss[i]\n",
    "    \n",
    "        \n",
    "    return unsorted_ss"
   ]
  },
  {
   "cell_type": "code",
   "execution_count": 78,
   "metadata": {},
   "outputs": [
    {
     "name": "stdout",
     "output_type": "stream",
     "text": [
      "[9 9 6 9 5]\n",
      "[5 6 9 9 9]\n",
      "sorted in 5.8650970458984375e-05 seconds\n"
     ]
    }
   ],
   "source": [
    "##test for selection sort algorithm implementation\n",
    "array_size = 5\n",
    "array_end = 10\n",
    "array_start = 1\n",
    "sel_sort = np.random.randint(array_start, high= array_end, size= array_size)#np.array([1,4,5,2,9,3])\n",
    "print (sel_sort)\n",
    "\n",
    "start_time = time.time()\n",
    "sel_sort = selection_sort(sel_sort)\n",
    "end_time = time.time()\n",
    "sel_sort_run_time = end_time - start_time\n",
    "\n",
    "print (sel_sort)\n",
    "print (\"sorted in %s seconds\" %(sel_sort_run_time))"
   ]
  },
  {
   "cell_type": "code",
   "execution_count": 79,
   "metadata": {
    "collapsed": true
   },
   "outputs": [],
   "source": [
    "np.split?"
   ]
  },
  {
   "cell_type": "code",
   "execution_count": 84,
   "metadata": {},
   "outputs": [
    {
     "name": "stdout",
     "output_type": "stream",
     "text": [
      "1\n",
      "2\n",
      "3\n",
      "[1 2 3]\n",
      "(2,) (1,)\n"
     ]
    }
   ],
   "source": [
    "a = np.array([1,2,3])\n",
    "a[0]\n",
    "a.shape\n",
    "for j in range(len(a)):\n",
    "    print (a[j])\n",
    "\n",
    "print (a)\n",
    "a.shape[0]\n",
    "l, r=np.array_split(ary=a,indices_or_sections=2)\n",
    "print(l.shape, r.shape)"
   ]
  },
  {
   "cell_type": "code",
   "execution_count": null,
   "metadata": {
    "collapsed": true
   },
   "outputs": [],
   "source": []
  }
 ],
 "metadata": {
  "kernelspec": {
   "display_name": "Python 3",
   "language": "python",
   "name": "python3"
  },
  "language_info": {
   "codemirror_mode": {
    "name": "ipython",
    "version": 3
   },
   "file_extension": ".py",
   "mimetype": "text/x-python",
   "name": "python",
   "nbconvert_exporter": "python",
   "pygments_lexer": "ipython3",
   "version": "3.6.3"
  }
 },
 "nbformat": 4,
 "nbformat_minor": 2
}
