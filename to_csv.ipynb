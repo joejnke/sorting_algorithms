{
 "cells": [
  {
   "cell_type": "markdown",
   "metadata": {},
   "source": [
    "## imports ##"
   ]
  },
  {
   "cell_type": "code",
   "execution_count": 1,
   "metadata": {
    "collapsed": true
   },
   "outputs": [],
   "source": [
    "import time\n",
    "import random\n",
    "import csv"
   ]
  },
  {
   "cell_type": "markdown",
   "metadata": {},
   "source": [
    "## Input Processing ##"
   ]
  },
  {
   "cell_type": "code",
   "execution_count": 2,
   "metadata": {
    "collapsed": true
   },
   "outputs": [],
   "source": [
    "def inputs(start=0, stop=2000000, step=20, presortedness=0.5):\n",
    "        \n",
    "    input_array = range(stop, start, step*-1)\n",
    "    \n",
    "    if presortedness == 0:\n",
    "        return input_array\n",
    "        \n",
    "    elif presortedness == 1:\n",
    "        input_array = range(start, stop, step)\n",
    "        \n",
    "        return input_array\n",
    "    \n",
    "    else:\n",
    "        rand_input_array = input_array\n",
    "        random.shuffle(rand_input_array)\n",
    "        \n",
    "        return rand_input_array\n",
    "        \n",
    "        \n",
    "    \n",
    "    "
   ]
  },
  {
   "cell_type": "markdown",
   "metadata": {},
   "source": [
    "## Algorithms ##"
   ]
  },
  {
   "cell_type": "code",
   "execution_count": 3,
   "metadata": {
    "collapsed": true
   },
   "outputs": [],
   "source": [
    "def insertion_sort(Array):\n",
    "    for j in range(1, len(Array)):\n",
    "        key = Array[j]\n",
    "        i = j-1\n",
    "        while i+1>0 and Array[i] > key:\n",
    "            Array[i+1] = Array[i]\n",
    "            i -=1\n",
    "        Array[i+1] = key\n",
    "        \n",
    "    return Array"
   ]
  },
  {
   "cell_type": "code",
   "execution_count": 4,
   "metadata": {
    "collapsed": true
   },
   "outputs": [],
   "source": [
    "def merge_sort(alist):\n",
    "\n",
    "    if len(alist)>1:\n",
    "        mid = len(alist)//2\n",
    "        lefthalf = alist[:mid]\n",
    "        righthalf = alist[mid:]\n",
    "\n",
    "        #recursion\n",
    "        merge_sort(lefthalf)\n",
    "        merge_sort(righthalf)\n",
    "\n",
    "        i=0\n",
    "        j=0\n",
    "        k=0\n",
    "\n",
    "        while i < len(lefthalf) and j < len(righthalf):\n",
    "            if lefthalf[i] < righthalf[j]:\n",
    "                alist[k]=lefthalf[i]\n",
    "                i=i+1\n",
    "            else:\n",
    "                alist[k]=righthalf[j]\n",
    "                j=j+1\n",
    "            k=k+1\n",
    "\n",
    "        while i < len(lefthalf):\n",
    "            alist[k]=lefthalf[i]\n",
    "            i=i+1\n",
    "            k=k+1\n",
    "\n",
    "        while j < len(righthalf):\n",
    "            alist[k]=righthalf[j]\n",
    "            j=j+1\n",
    "            k=k+1\n",
    "\n",
    "    return alist"
   ]
  },
  {
   "cell_type": "code",
   "execution_count": 5,
   "metadata": {
    "collapsed": true
   },
   "outputs": [],
   "source": [
    "class heap_sort:\n",
    "\n",
    "    def __init__(self, Array):\n",
    "        self.Array = Array \n",
    "        self.heapsort()\n",
    "\n",
    "    def heapsort(self):\n",
    "        \n",
    "        self.build_max_heap()\n",
    "        \n",
    "        for i in range(len(self.Array) - 1, 0, -1):\n",
    "            self.Array[0], self.Array[i] = self.Array[i], self.Array[0]\n",
    "            self.max_heapify(index=0, size=i)\n",
    "    \n",
    "    def parent(self, i):\n",
    "        return (i - 1)//2\n",
    "    \n",
    "    def left(self, i):\n",
    "        return 2*i + 1\n",
    "    \n",
    "    def right(self, i):\n",
    "        return 2*i + 2\n",
    "    \n",
    "    def build_max_heap(self):\n",
    "        length = len(self.Array)\n",
    "        start = self.parent(length - 1)\n",
    "        \n",
    "        while start >= 0:\n",
    "            self.max_heapify(index=start, size=length)\n",
    "            start = start - 1\n",
    "    \n",
    "    def max_heapify(self, index, size):\n",
    "        l = self.left(index)\n",
    "        r = self.right(index)\n",
    "\n",
    "        if (l < size and self.Array[l] > self.Array[index]):\n",
    "            largest = l\n",
    "\n",
    "        else:\n",
    "            largest = index\n",
    "\n",
    "        if (r < size and self.Array[r] > self.Array[largest]):\n",
    "            largest = r\n",
    "\n",
    "        if (largest != index):\n",
    "            self.Array[largest], self.Array[index] = self.Array[index], self.Array[largest]\n",
    "            self.max_heapify(largest, size)\n",
    "    \n",
    " "
   ]
  },
  {
   "cell_type": "code",
   "execution_count": 6,
   "metadata": {
    "collapsed": true
   },
   "outputs": [],
   "source": [
    "def partition(array, begin, end):\n",
    "    pivot = begin\n",
    "    for i in xrange(begin+1, end+1):\n",
    "        if array[i] <= array[begin]:\n",
    "            pivot += 1\n",
    "            array[i], array[pivot] = array[pivot], array[i]\n",
    "    array[pivot], array[begin] = array[begin], array[pivot]\n",
    "    return pivot\n",
    "\n",
    "\n",
    "\n",
    "def quick_sort(array, begin=0, end=None):\n",
    "    if end is None:\n",
    "        end = len(array) - 1\n",
    "    def _quick_sort(array, begin, end):\n",
    "        if begin >= end:\n",
    "            return\n",
    "        pivot = partition(array, begin, end)\n",
    "        _quick_sort(array, begin, pivot-1)\n",
    "        _quick_sort(array, pivot+1, end)\n",
    "    return array\n"
   ]
  },
  {
   "cell_type": "code",
   "execution_count": 7,
   "metadata": {
    "collapsed": true
   },
   "outputs": [],
   "source": [
    "def selection_sort(Array): \n",
    "  \n",
    "    for position in range(len(Array)):\n",
    "        min_item = position\n",
    "    \n",
    "        for i in range(position+1, len(Array)):\n",
    "            if Array[i] < Array[min_item]:\n",
    "                min_item = i\n",
    "\n",
    "        Array[position], Array[min_item] = Array[min_item], Array[position]\n",
    "  \n",
    "    return Array"
   ]
  },
  {
   "cell_type": "code",
   "execution_count": null,
   "metadata": {
    "collapsed": true
   },
   "outputs": [],
   "source": []
  },
  {
   "cell_type": "code",
   "execution_count": 15,
   "metadata": {},
   "outputs": [
    {
     "name": "stdout",
     "output_type": "stream",
     "text": [
      "0.00625205039978\n"
     ]
    }
   ],
   "source": [
    "ts = time.time()\n",
    "h = quick_sort(inputs(0, 2000000, 20, 1))\n",
    "te = time.time()\n",
    "print(te-ts)"
   ]
  },
  {
   "cell_type": "code",
   "execution_count": 20,
   "metadata": {},
   "outputs": [
    {
     "data": {
      "text/plain": [
       "10000"
      ]
     },
     "execution_count": 20,
     "metadata": {},
     "output_type": "execute_result"
    }
   ],
   "source": [
    "n[1]"
   ]
  },
  {
   "cell_type": "code",
   "execution_count": 18,
   "metadata": {},
   "outputs": [
    {
     "ename": "KeyboardInterrupt",
     "evalue": "",
     "output_type": "error",
     "traceback": [
      "\u001b[0;31m---------------------------------------------------------------------------\u001b[0m",
      "\u001b[0;31mKeyboardInterrupt\u001b[0m                         Traceback (most recent call last)",
      "\u001b[0;32m<ipython-input-18-fe2d8cce3b14>\u001b[0m in \u001b[0;36m<module>\u001b[0;34m()\u001b[0m\n\u001b[1;32m      6\u001b[0m         \u001b[0mtc\u001b[0m \u001b[0;34m=\u001b[0m \u001b[0;34m[\u001b[0m\u001b[0mi\u001b[0m\u001b[0;34m]\u001b[0m\u001b[0;34m\u001b[0m\u001b[0m\n\u001b[1;32m      7\u001b[0m         \u001b[0mts\u001b[0m \u001b[0;34m=\u001b[0m \u001b[0mtime\u001b[0m\u001b[0;34m.\u001b[0m\u001b[0mtime\u001b[0m\u001b[0;34m(\u001b[0m\u001b[0;34m)\u001b[0m\u001b[0;34m\u001b[0m\u001b[0m\n\u001b[0;32m----> 8\u001b[0;31m         \u001b[0msrted\u001b[0m \u001b[0;34m=\u001b[0m \u001b[0minsertion_sort\u001b[0m\u001b[0;34m(\u001b[0m\u001b[0minputs\u001b[0m\u001b[0;34m(\u001b[0m\u001b[0;36m0\u001b[0m\u001b[0;34m,\u001b[0m \u001b[0mi\u001b[0m\u001b[0;34m,\u001b[0m \u001b[0;36m20\u001b[0m\u001b[0;34m,\u001b[0m \u001b[0mp\u001b[0m\u001b[0;34m)\u001b[0m\u001b[0;34m)\u001b[0m\u001b[0;34m\u001b[0m\u001b[0m\n\u001b[0m\u001b[1;32m      9\u001b[0m         \u001b[0mte\u001b[0m \u001b[0;34m=\u001b[0m \u001b[0mtime\u001b[0m\u001b[0;34m.\u001b[0m\u001b[0mtime\u001b[0m\u001b[0;34m(\u001b[0m\u001b[0;34m)\u001b[0m\u001b[0;34m\u001b[0m\u001b[0m\n\u001b[1;32m     10\u001b[0m         \u001b[0mtc\u001b[0m\u001b[0;34m.\u001b[0m\u001b[0mappend\u001b[0m\u001b[0;34m(\u001b[0m\u001b[0mte\u001b[0m\u001b[0;34m-\u001b[0m\u001b[0mts\u001b[0m\u001b[0;34m)\u001b[0m\u001b[0;34m\u001b[0m\u001b[0m\n",
      "\u001b[0;32m<ipython-input-3-151a4d71fda5>\u001b[0m in \u001b[0;36minsertion_sort\u001b[0;34m(Array)\u001b[0m\n\u001b[1;32m      4\u001b[0m         \u001b[0mi\u001b[0m \u001b[0;34m=\u001b[0m \u001b[0mj\u001b[0m\u001b[0;34m-\u001b[0m\u001b[0;36m1\u001b[0m\u001b[0;34m\u001b[0m\u001b[0m\n\u001b[1;32m      5\u001b[0m         \u001b[0;32mwhile\u001b[0m \u001b[0mi\u001b[0m\u001b[0;34m+\u001b[0m\u001b[0;36m1\u001b[0m\u001b[0;34m>\u001b[0m\u001b[0;36m0\u001b[0m \u001b[0;32mand\u001b[0m \u001b[0mArray\u001b[0m\u001b[0;34m[\u001b[0m\u001b[0mi\u001b[0m\u001b[0;34m]\u001b[0m \u001b[0;34m>\u001b[0m \u001b[0mkey\u001b[0m\u001b[0;34m:\u001b[0m\u001b[0;34m\u001b[0m\u001b[0m\n\u001b[0;32m----> 6\u001b[0;31m             \u001b[0mArray\u001b[0m\u001b[0;34m[\u001b[0m\u001b[0mi\u001b[0m\u001b[0;34m+\u001b[0m\u001b[0;36m1\u001b[0m\u001b[0;34m]\u001b[0m \u001b[0;34m=\u001b[0m \u001b[0mArray\u001b[0m\u001b[0;34m[\u001b[0m\u001b[0mi\u001b[0m\u001b[0;34m]\u001b[0m\u001b[0;34m\u001b[0m\u001b[0m\n\u001b[0m\u001b[1;32m      7\u001b[0m             \u001b[0mi\u001b[0m \u001b[0;34m-=\u001b[0m\u001b[0;36m1\u001b[0m\u001b[0;34m\u001b[0m\u001b[0m\n\u001b[1;32m      8\u001b[0m         \u001b[0mArray\u001b[0m\u001b[0;34m[\u001b[0m\u001b[0mi\u001b[0m\u001b[0;34m+\u001b[0m\u001b[0;36m1\u001b[0m\u001b[0;34m]\u001b[0m \u001b[0;34m=\u001b[0m \u001b[0mkey\u001b[0m\u001b[0;34m\u001b[0m\u001b[0m\n",
      "\u001b[0;31mKeyboardInterrupt\u001b[0m: "
     ]
    }
   ],
   "source": [
    "n = range(0, 210000, 10000)\n",
    "presortedness = ['0reversesorted', '1sorted']\n",
    "for p in range(len(presortedness)):\n",
    "    tcs = [['n', 'Insertionsort', 'Mergesort', 'Heapsort', 'Quicksort', 'Selectionsort']]\n",
    "    for i in n:\n",
    "        tc = [i]\n",
    "        ts = time.time()\n",
    "        srted = insertion_sort(inputs(0, i, 20, p))\n",
    "        te = time.time()\n",
    "        tc.append(te-ts)\n",
    "\n",
    "        ts = time.time()\n",
    "        srted = merge_sort(inputs(0, i, 20, p))\n",
    "        te = time.time()\n",
    "        tc.append(te-ts)\n",
    "\n",
    "        ts = time.time()\n",
    "        srted = heap_sort(inputs(0, i, 20, p))\n",
    "        te = time.time()\n",
    "        tc.append(te-ts)\n",
    "\n",
    "        ts = time.time()\n",
    "        srted = quick_sort(inputs(0, i, 20, p))\n",
    "        te = time.time()\n",
    "        tc.append(te-ts)\n",
    "\n",
    "        ts = time.time()\n",
    "        srted = selection_sort(inputs(0, i, 20, p))\n",
    "        te = time.time()\n",
    "        tc.append(te-ts)\n",
    "\n",
    "        tcs.append(tc)\n",
    "\n",
    "    filename = 'algos{}.csv'.format(presortedness[p])\n",
    "\n",
    "    with open(filename, 'w') as f:\n",
    "        riter = csv.writer(f)\n",
    "        for row in tcs:\n",
    "            riter.writerow(row)\n",
    "        print(\"successfully finished exporting to {}\".format(filename))\n"
   ]
  },
  {
   "cell_type": "code",
   "execution_count": null,
   "metadata": {
    "collapsed": true
   },
   "outputs": [],
   "source": []
  },
  {
   "cell_type": "code",
   "execution_count": null,
   "metadata": {
    "collapsed": true
   },
   "outputs": [],
   "source": [
    "def rndm(n, presortedness, steps=20, reps=20):\n",
    "    rnd = []\n",
    "    for i in range(reps):\n",
    "        rndm.append(inputs(0, n, steps, presortedness))\n",
    "        \n",
    "    return rnd\n",
    "        "
   ]
  },
  {
   "cell_type": "markdown",
   "metadata": {},
   "source": [
    "### implement the random with reps"
   ]
  },
  {
   "cell_type": "code",
   "execution_count": null,
   "metadata": {
    "collapsed": true
   },
   "outputs": [],
   "source": [
    "n = range(0, 210000, 10000)\n",
    "presortedness = ['random']\n",
    "\n",
    "tcs = [['n', 'Insertionsort', 'Mergesort', 'Heapsort', 'Quicksort', 'Selectionsort']]\n",
    "for i in n:\n",
    "    tc = [i]\n",
    "    \n",
    "    ts = time.time()\n",
    "    srted = insertion_sort()\n",
    "    te = time.time()\n",
    "    tc.append(te-ts)\n",
    "\n",
    "    ts = time.time()\n",
    "    srted = merge_sort(inputs(0, i, 20, pre))\n",
    "    te = time.time()\n",
    "    tc.append(te-ts)\n",
    "\n",
    "    ts = time.time()\n",
    "    srted = heap_sort(inputs(0, i, 20, pre))\n",
    "    te = time.time()\n",
    "    tc.append(te-ts)\n",
    "\n",
    "    ts = time.time()\n",
    "    srted = quick_sort(inputs(0, i, 20, pre))\n",
    "    te = time.time()\n",
    "    tc.append(te-ts)\n",
    "\n",
    "    ts = time.time()\n",
    "    srted = selection_sort(inputs(0, i, 20, pre))\n",
    "    te = time.time()\n",
    "    tc.append(te-ts)\n",
    "\n",
    "    tcs.append(tc)\n",
    "\n",
    "filename = 'algos{}.csv'.format(presortedness[p])\n",
    "\n",
    "with open(filename, 'w') as f:\n",
    "    riter = csv.writer(f)\n",
    "    for row in tcs:\n",
    "        riter.writerow(row)\n",
    "    print(\"successfully finished exporting to {}\".format(filename))\n"
   ]
  },
  {
   "cell_type": "code",
   "execution_count": 11,
   "metadata": {},
   "outputs": [],
   "source": [
    "with open('presorted0.csv', 'w') as p0:\n",
    "    p0.write('''Intervals,Insertion sort,Selection sort,Merge sort,Quick sort,Heap sort''')\n",
    "    writer = csv.writer(p0)\n",
    "    writer.writerows([[1,2,3],[8,7,9]])"
   ]
  },
  {
   "cell_type": "code",
   "execution_count": null,
   "metadata": {
    "collapsed": true
   },
   "outputs": [],
   "source": []
  }
 ],
 "metadata": {
  "kernelspec": {
   "display_name": "Python 3",
   "language": "python",
   "name": "python3"
  },
  "language_info": {
   "codemirror_mode": {
    "name": "ipython",
    "version": 3
   },
   "file_extension": ".py",
   "mimetype": "text/x-python",
   "name": "python",
   "nbconvert_exporter": "python",
   "pygments_lexer": "ipython3",
   "version": "3.6.3"
  }
 },
 "nbformat": 4,
 "nbformat_minor": 2
}
