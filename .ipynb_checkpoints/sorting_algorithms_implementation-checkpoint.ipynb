{
 "cells": [
  {
   "cell_type": "code",
   "execution_count": 1,
   "metadata": {
    "collapsed": true
   },
   "outputs": [],
   "source": [
    "import numpy as np\n",
    "import time \n",
    "import math\n",
    "import sys"
   ]
  },
  {
   "cell_type": "code",
   "execution_count": 52,
   "metadata": {
    "collapsed": true
   },
   "outputs": [],
   "source": [
    "#implementation of insertion sort algorithm\n",
    "def insertion_sort(unsorted_is):\n",
    "    for j in range(1, unsorted_is.shape[0]):\n",
    "        key = unsorted_is[j]\n",
    "        i = j-1\n",
    "        while i>-1 and unsorted_is[i]>=key:\n",
    "            unsorted_is[i+1] = unsorted_is[i]\n",
    "            i-=1\n",
    "            \n",
    "        unsorted_is[i+1] = key\n",
    "    \n",
    "    return unsorted_is"
   ]
  },
  {
   "cell_type": "code",
   "execution_count": 53,
   "metadata": {
    "scrolled": true
   },
   "outputs": [
    {
     "name": "stdout",
     "output_type": "stream",
     "text": [
      "[6 1 1 9 8]\n",
      "[1 1 6 8 9]\n",
      "sorted in 0.00015163421630859375 seconds\n"
     ]
    }
   ],
   "source": [
    "##test for insertion sort algorithm implementation\n",
    "array_size = 5\n",
    "array_end = 10\n",
    "array_start = 1\n",
    "ins_sort = np.random.randint(array_start, high= array_end, size= array_size)#np.array([1,4,5,2,9,3])\n",
    "print (ins_sort)\n",
    "\n",
    "start_time = time.time()\n",
    "ins_sort = insertion_sort(ins_sort)\n",
    "end_time = time.time()\n",
    "ins_sort_run_time = end_time - start_time\n",
    "\n",
    "print (ins_sort)\n",
    "print (\"sorted in %s seconds\" %(ins_sort_run_time))"
   ]
  },
  {
   "cell_type": "code",
   "execution_count": 75,
   "metadata": {
    "collapsed": true,
    "scrolled": true
   },
   "outputs": [],
   "source": [
    "#implementation of selection sort algorithm\n",
    "def selection_sort(unsorted_ss):\n",
    "    for i in range(unsorted_ss.shape[0] - 1):\n",
    "        lowindex = i #unsorted_ss_min = unsorted_ss[i]\n",
    "        for j in reversed(range(i + 1, unsorted_ss.shape[0])):\n",
    "            if unsorted_ss[j]<unsorted_ss[lowindex]:\n",
    "                lowindex=j #unsorted_ss[i] = unsorted_ss[j]\n",
    "                #unsorted_ss[j] = unsorted_ss_min\n",
    "        unsorted_ss[i], unsorted_ss[lowindex] = unsorted_ss[lowindex], unsorted_ss[i]\n",
    "    \n",
    "        \n",
    "    return unsorted_ss"
   ]
  },
  {
   "cell_type": "code",
   "execution_count": 78,
   "metadata": {},
   "outputs": [
    {
     "name": "stdout",
     "output_type": "stream",
     "text": [
      "[9 9 6 9 5]\n",
      "[5 6 9 9 9]\n",
      "sorted in 5.8650970458984375e-05 seconds\n"
     ]
    }
   ],
   "source": [
    "##test for selection sort algorithm implementation\n",
    "array_size = 5\n",
    "array_end = 10\n",
    "array_start = 1\n",
    "sel_sort = np.random.randint(array_start, high= array_end, size= array_size)#np.array([1,4,5,2,9,3])\n",
    "print (sel_sort)\n",
    "\n",
    "start_time = time.time()\n",
    "sel_sort = selection_sort(sel_sort)\n",
    "end_time = time.time()\n",
    "sel_sort_run_time = end_time - start_time\n",
    "\n",
    "print (sel_sort)\n",
    "print (\"sorted in %s seconds\" %(sel_sort_run_time))"
   ]
  },
  {
   "cell_type": "code",
   "execution_count": 150,
   "metadata": {
    "collapsed": true
   },
   "outputs": [],
   "source": [
    "###implementation of merge sort algorithm\n",
    "\n",
    "#definition of merge function\n",
    "def merge(left_sub_array, right_sub_array):\n",
    "    merged_array = np.zeros(left_sub_array.shape[0] + right_sub_array.shape[0])\n",
    "    \n",
    "    left_index = 0\n",
    "    right_index = 0\n",
    "    \n",
    "    for i in range(merged_array.shape[0]):\n",
    "        if left_sub_array[left_index] <= right_sub_array[right_index] :\n",
    "            merged_array[i] = left_sub_array[left_index]\n",
    "            if not (left_index + 1) >= left_sub_array.shape[0]:\n",
    "                left_index +=1\n",
    "            else:\n",
    "                left_sub_array[left_index] = sys.maxsize #sys.maxsize used as ininfity integer number\n",
    "        else :\n",
    "            merged_array[i] = right_sub_array[right_index]\n",
    "            if not (right_index + 1) >= right_sub_array.shape[0]:\n",
    "                right_index +=1\n",
    "            else:\n",
    "                right_sub_array[right_index] = sys.maxsize\n",
    "            \n",
    "    #merged_array = np.concatenate((left_sub_array, right_sub_array), axis=0)\n",
    "    #left_index = 0\n",
    "    #right_index = left_sub_array.shape[0]\n",
    "    \n",
    "    #for i in range(merged_array.shape[0]):\n",
    "    #    if merged_array[left_index] <= merged_array[right_index] :\n",
    "    #        merged_array[left_index], merged_array[right_index] = merged_array[right_index], merged_array[left_index]\n",
    "    #        left_index +=1\n",
    "    #    else :\n",
    "    #        merged_array[right_index], merged_array[left_index] = merged_array[left_index], merged_array[right_index]\n",
    "    #        if not (right_index + 1) >= merged_array.shape[0]:\n",
    "    #            right_index +=1\n",
    "            \n",
    "    \n",
    "    return merged_array\n",
    "\n",
    "#definition of merge_sort function\n",
    "def merge_sort(unsorted_ms):\n",
    "    if unsorted_ms.shape[0] == 1 :\n",
    "        return unsorted_ms\n",
    "    else :\n",
    "        L_sub_array, R_sub_array = np.array_split(ary=unsorted_ms, indices_or_sections=2)\n",
    "        \n",
    "        L_sub_array = merge_sort(L_sub_array)\n",
    "        R_sub_array = merge_sort(R_sub_array)\n",
    "        \n",
    "        return merge(L_sub_array, R_sub_array)"
   ]
  },
  {
   "cell_type": "code",
   "execution_count": 154,
   "metadata": {},
   "outputs": [
    {
     "name": "stdout",
     "output_type": "stream",
     "text": [
      "[3 5 5 9 1 9 4 3]\n",
      "[ 1.  3.  3.  4.  5.  5.  9.  9.]\n",
      "sorted in 0.00024271011352539062 seconds\n"
     ]
    }
   ],
   "source": [
    "##test for merge sort algorithm implementation\n",
    "array_size = 8\n",
    "array_end = 10\n",
    "array_start = 1\n",
    "mer_sort = np.random.randint(array_start, high= array_end, size= array_size)#np.array([1,4,5,2,9,3])\n",
    "print (mer_sort)\n",
    "\n",
    "start_time = time.time()\n",
    "mer_sort = merge_sort(mer_sort)\n",
    "end_time = time.time()\n",
    "mer_sort_run_time = end_time - start_time\n",
    "\n",
    "print (mer_sort)\n",
    "print (\"sorted in %s seconds\" %(mer_sort_run_time))"
   ]
  },
  {
   "cell_type": "code",
   "execution_count": 21,
   "metadata": {
    "collapsed": true
   },
   "outputs": [],
   "source": [
    "### implementation of quick sort algorithm\n",
    "\n",
    "#definition of artition function\n",
    "def partition (unpartitioned):\n",
    "    unpartitioned_size = unpartitioned.shape[0]\n",
    "    \n",
    "    pivot = unpartitioned[unpartitioned_size - 1]\n",
    "    min_index = -1\n",
    "    \n",
    "    for i in range(unpartitioned_size-1):\n",
    "        if unpartitioned[i] <= pivot :\n",
    "            min_index += 1\n",
    "            unpartitioned[min_index], unpartitioned[i] = unpartitioned[i], unpartitioned[min_index]\n",
    "            \n",
    "    unpartitioned[min_index + 1], unpartitioned[unpartitioned_size - 1] = unpartitioned[unpartitioned_size - 1], unpartitioned[min_index + 1]\n",
    "    \n",
    "    return min_index + 1 , unpartitioned\n",
    "\n",
    "def quick_sort(unsorted_qs):\n",
    "    if unsorted_qs.shape[0] <= 1 :\n",
    "        return unsorted_qs\n",
    "    else:\n",
    "        partition_index, unsorted_qs = partition(unsorted_qs)\n",
    "        left_qs = unsorted_qs[:partition_index]\n",
    "        pivot_qs = np.array((1,))\n",
    "        pivot_qs[0] = unsorted_qs[partition_index]\n",
    "        right_qs = unsorted_qs[partition_index + 1 :]\n",
    "        \n",
    "        left_qs = quick_sort(left_qs)\n",
    "        right_qs = quick_sort(right_qs)\n",
    "        \n",
    "        return np.concatenate((left_qs, pivot_qs, right_qs))\n",
    "        "
   ]
  },
  {
   "cell_type": "code",
   "execution_count": 23,
   "metadata": {},
   "outputs": [
    {
     "name": "stdout",
     "output_type": "stream",
     "text": [
      "[9 3 4 7 4 5 5 6]\n",
      "[3 4 4 5 5 6 7 9]\n",
      "sorted in 0.0001437664031982422 seconds\n"
     ]
    }
   ],
   "source": [
    "##test for quick sort algorithm implementation\n",
    "array_size = 8\n",
    "array_end = 10\n",
    "array_start = 1\n",
    "qs_sort = np.random.randint(array_start, high= array_end, size= array_size)#np.array([1,4,5,2,9,3])\n",
    "print (qs_sort)\n",
    "\n",
    "start_time = time.time()\n",
    "qs_sort = quick_sort(qs_sort)\n",
    "end_time = time.time()\n",
    "qs_sort_run_time = end_time - start_time\n",
    "\n",
    "print (qs_sort)\n",
    "print (\"sorted in %s seconds\" %(qs_sort_run_time))"
   ]
  },
  {
   "cell_type": "code",
   "execution_count": null,
   "metadata": {
    "collapsed": true
   },
   "outputs": [],
   "source": []
  },
  {
   "cell_type": "code",
   "execution_count": 18,
   "metadata": {},
   "outputs": [
    {
     "name": "stdout",
     "output_type": "stream",
     "text": [
      "1\n",
      "2\n",
      "3\n",
      "[1 2 3]\n",
      "(2,) (1,) (1,)\n"
     ]
    },
    {
     "data": {
      "text/plain": [
       "array([ 1.,  2.,  3.,  0.,  0.,  0.,  1.])"
      ]
     },
     "execution_count": 18,
     "metadata": {},
     "output_type": "execute_result"
    }
   ],
   "source": [
    "a = np.array([1,2,3])\n",
    "b = np.zeros(3)\n",
    "d = np.array((1,))\n",
    "d[0] = a[0]\n",
    "c = np.concatenate((a,b,d), axis=0)\n",
    "a.shape\n",
    "for j in range(len(a)):\n",
    "    print (a[j])\n",
    "\n",
    "print (a)\n",
    "a.shape[0]\n",
    "l, r=np.array_split(ary=a,indices_or_sections=2)\n",
    "print(l.shape, r.shape, d.shape)\n",
    "c"
   ]
  },
  {
   "cell_type": "code",
   "execution_count": 14,
   "metadata": {
    "collapsed": true
   },
   "outputs": [],
   "source": [
    "np.array?"
   ]
  },
  {
   "cell_type": "code",
   "execution_count": 11,
   "metadata": {},
   "outputs": [
    {
     "name": "stdout",
     "output_type": "stream",
     "text": [
      "[9 2 3]\n"
     ]
    },
    {
     "data": {
      "text/plain": [
       "(array([9, 2]), array([2, 3]))"
      ]
     },
     "execution_count": 11,
     "metadata": {},
     "output_type": "execute_result"
    }
   ],
   "source": [
    "a = np.random.randint(1,10,3)\n",
    "if a.shape[0] == 2 :\n",
    "    print(\"hi\")\n",
    "else :\n",
    "    print(a)\n",
    "\n",
    "a[:2], a[1:]\n",
    "\n"
   ]
  },
  {
   "cell_type": "code",
   "execution_count": 1,
   "metadata": {},
   "outputs": [
    {
     "name": "stdout",
     "output_type": "stream",
     "text": [
      "2\n"
     ]
    },
    {
     "ename": "NameError",
     "evalue": "name 'Decimal' is not defined",
     "output_type": "error",
     "traceback": [
      "\u001b[0;31m---------------------------------------------------------------------------\u001b[0m",
      "\u001b[0;31mNameError\u001b[0m                                 Traceback (most recent call last)",
      "\u001b[0;32m<ipython-input-1-6de1bd8f1fae>\u001b[0m in \u001b[0;36m<module>\u001b[0;34m()\u001b[0m\n\u001b[1;32m      5\u001b[0m \u001b[0mprint\u001b[0m \u001b[0;34m(\u001b[0m\u001b[0mr\u001b[0m\u001b[0;34m)\u001b[0m\u001b[0;34m\u001b[0m\u001b[0m\n\u001b[1;32m      6\u001b[0m \u001b[0;34m\u001b[0m\u001b[0m\n\u001b[0;32m----> 7\u001b[0;31m \u001b[0mr\u001b[0m\u001b[0;34m=\u001b[0m\u001b[0mDecimal\u001b[0m\u001b[0;34m(\u001b[0m\u001b[0mmath\u001b[0m\u001b[0;34m.\u001b[0m\u001b[0minf\u001b[0m\u001b[0;34m)\u001b[0m\u001b[0;34m\u001b[0m\u001b[0m\n\u001b[0m\u001b[1;32m      8\u001b[0m \u001b[0mr\u001b[0m\u001b[0;34m\u001b[0m\u001b[0m\n",
      "\u001b[0;31mNameError\u001b[0m: name 'Decimal' is not defined"
     ]
    }
   ],
   "source": [
    "r =int (1)\n",
    "if not (r + 1) >= 3:\n",
    "    r +=1\n",
    "    \n",
    "print (r)\n",
    "\n",
    "r"
   ]
  },
  {
   "cell_type": "code",
   "execution_count": null,
   "metadata": {
    "collapsed": true
   },
   "outputs": [],
   "source": []
  }
 ],
 "metadata": {
  "kernelspec": {
   "display_name": "Python 3",
   "language": "python",
   "name": "python3"
  },
  "language_info": {
   "codemirror_mode": {
    "name": "ipython",
    "version": 3
   },
   "file_extension": ".py",
   "mimetype": "text/x-python",
   "name": "python",
   "nbconvert_exporter": "python",
   "pygments_lexer": "ipython3",
   "version": "3.6.3"
  }
 },
 "nbformat": 4,
 "nbformat_minor": 2
}
