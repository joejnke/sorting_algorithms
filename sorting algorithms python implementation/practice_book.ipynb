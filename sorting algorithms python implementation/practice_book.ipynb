{
 "cells": [
  {
   "cell_type": "markdown",
   "metadata": {},
   "source": [
    "## Syntax checking codes"
   ]
  },
  {
   "cell_type": "code",
   "execution_count": 3,
   "metadata": {
    "collapsed": true
   },
   "outputs": [],
   "source": [
    "import numpy as np\n",
    "import csv\n"
   ]
  },
  {
   "cell_type": "code",
   "execution_count": 20,
   "metadata": {},
   "outputs": [
    {
     "name": "stdout",
     "output_type": "stream",
     "text": [
      "[[ 1  2  3  4]\n",
      " [20  7  5  8]\n",
      " [ 0  2  4  9]]\n",
      "[[ 1 20  0]\n",
      " [ 2  7  2]\n",
      " [ 3  5  4]\n",
      " [ 4  8  9]]\n",
      "[[ 1  2  3  4]\n",
      " [20  7  5  8]\n",
      " [ 0  2  4  9]]\n"
     ]
    }
   ],
   "source": [
    "print(a)\n",
    "print(np.transpose(a))\n",
    "print(a)"
   ]
  },
  {
   "cell_type": "code",
   "execution_count": null,
   "metadata": {
    "collapsed": true
   },
   "outputs": [],
   "source": [
    "# Python program for implementation of Quicksort \n",
    "\n",
    "# This function is same in both iterative and recursive \n",
    "def partition(arr,l,h): \n",
    "\ti = ( l - 1 ) \n",
    "\tx = arr[h] \n",
    "\n",
    "\tfor j in range(l , h): \n",
    "\t\tif arr[j] <= x: \n",
    "\n",
    "\t\t\t# increment index of smaller element \n",
    "\t\t\ti = i+1\n",
    "\t\t\tarr[i],arr[j] = arr[j],arr[i] \n",
    "\n",
    "\tarr[i+1],arr[h] = arr[h],arr[i+1] \n",
    "\treturn (i+1) \n",
    "\n",
    "# Function to do Quick sort \n",
    "# arr[] --> Array to be sorted, \n",
    "# l --> Starting index, \n",
    "# h --> Ending index \n",
    "def quickSortIterative(arr,l,h): \n",
    "\n",
    "\t# Create an auxiliary stack \n",
    "\tsize = h - l + 1\n",
    "\tstack = [0] * (size) \n",
    "\n",
    "\t# initialize top of stack \n",
    "\ttop = -1\n",
    "\n",
    "\t# push initial values of l and h to stack \n",
    "\ttop = top + 1\n",
    "\tstack[top] = l #stack[0]\n",
    "\ttop = top + 1\n",
    "\tstack[top] = h #stack[1]\n",
    "\n",
    "\t# Keep popping from stack while is not empty \n",
    "\twhile top >= 0: \n",
    "\n",
    "\t\t# Pop h and l \n",
    "\t\th = stack[top] \n",
    "\t\ttop = top - 1\n",
    "\t\tl = stack[top] \n",
    "\t\ttop = top - 1\n",
    "\n",
    "\t\t# Set pivot element at its correct position in \n",
    "\t\t# sorted array \n",
    "\t\tp = partition( arr, l, h ) \n",
    "\n",
    "\t\t# If there are elements on left side of pivot, \n",
    "\t\t# then push left side to stack \n",
    "\t\tif p-1 > l: \n",
    "\t\t\ttop = top + 1\n",
    "\t\t\tstack[top] = l \n",
    "\t\t\ttop = top + 1\n",
    "\t\t\tstack[top] = p - 1\n",
    "\n",
    "\t\t# If there are elements on right side of pivot, \n",
    "\t\t# then push right side to stack \n",
    "\t\tif p+1 < h: \n",
    "\t\t\ttop = top + 1\n",
    "\t\t\tstack[top] = p + 1\n",
    "\t\t\ttop = top + 1\n",
    "\t\t\tstack[top] = h \n",
    "\n",
    "# Driver code to test above \n",
    "arr = [4, 3, 5, 2, 1, 3, 2, 3] \n",
    "n = len(arr) \n",
    "quickSortIterative(arr, 0, n-1) \n",
    "print (\"Sorted array is:\") \n",
    "for i in range(n): \n",
    "\tprint (\"%d\" %arr[i]), \n",
    "\n",
    "# This code is contributed by Mohit Kumra \n"
   ]
  },
  {
   "cell_type": "code",
   "execution_count": 27,
   "metadata": {},
   "outputs": [
    {
     "data": {
      "text/plain": [
       "4"
      ]
     },
     "execution_count": 27,
     "metadata": {},
     "output_type": "execute_result"
    }
   ],
   "source": [
    "a = np.array([1,2,3,4])\n",
    "#np.savetxt(\"mycsv.csv\", a, delimiter=\",\")\n",
    "#np.reshape(a, (4,3))\n",
    "a.shape[0]"
   ]
  },
  {
   "cell_type": "code",
   "execution_count": null,
   "metadata": {
    "collapsed": true
   },
   "outputs": [],
   "source": [
    "a = [1,2,3]\n",
    "for i in a[1:]:\n",
    "    print(i)\n",
    "\n",
    "for i in range(len(dict0)):\n",
    "    #print (i)\n",
    "\n",
    "dict0 = {0:np.array([1])}\n",
    "j = 1\n",
    "for i in interval_array[1:]:\n",
    "    dict0[j] = np.flip(np.sort(np.random.randint(0, high=i, size=i)), axis=0)\n",
    "    j += 1\n",
    "print(dict0)\n",
    "print(len(dict0))\n",
    "\n",
    "dict0_sorted={}\n",
    "rt0 = np.zeros((5,21))\n",
    "#for sorter in sorter_alg:\n",
    "for intervals in range(len(dict0)):\n",
    "    #if sorter==\"insertion_sort\":\n",
    "    start_time = time.time()\n",
    "    dict0_sorted[intervals] = insertion_sort(dict0[intervals])\n",
    "    end_time = time.time()\n",
    "    rt0[0][intervals] = end_time - start_time\n",
    "    \n",
    "print(dict0)\n",
    "print(dict0_sorted)\n",
    "print(rt0[0][:])\n",
    "print(len(rt0[0][:]))"
   ]
  },
  {
   "cell_type": "code",
   "execution_count": null,
   "metadata": {
    "collapsed": true
   },
   "outputs": [],
   "source": [
    "dictionery = {0:np.array([1,2,3]), '1':'ethiopian'}\n",
    "for i in dictionery:\n",
    "    print (dictionery[i])\n",
    "    if i == 0:\n",
    "        print(dictionery[i].shape)\n",
    "    \n",
    "\n",
    "a0_5 = timeit.timeit(heap_sort(np.array([6 ,1 ,7])))\n",
    "a0_5\n",
    "\n",
    "A = np.arange(100,-2,-2)\n",
    "B = np.random.randint(0,20000000,100000)\n",
    "A.size\n",
    "B.size\n",
    "\n",
    "a = np.array([1,2,3])\n",
    "b = np.zeros(3)\n",
    "d = np.array((1,))\n",
    "d[0] = a[0]\n",
    "e = np.array([a[0]])\n",
    "c = np.concatenate((a,b,d, e), axis=0)\n",
    "a.shape\n",
    "for j in range(len(a)):\n",
    "    print (a[j])\n",
    "\n",
    "print (a)\n",
    "a.shape[0]\n",
    "l, r=np.array_split(ary=a,indices_or_sections=2)\n",
    "print(l.shape, r.shape, d.shape)\n",
    "c\n",
    "\n",
    "np.array?\n",
    "\n",
    "a = np.random.randint(1,10,3)\n",
    "if a.shape[0] == 2 :\n",
    "    print(\"hi\")\n",
    "else :\n",
    "    print(a)\n",
    "\n",
    "a[2:]\n",
    "\n",
    "\n",
    "\n",
    "r =int (1)\n",
    "if not (r + 1) >= 3:\n",
    "    r +=1\n",
    "    \n",
    "print (r)\n",
    "\n",
    "r\n",
    "\n",
    "a = np.array([1])\n",
    "a.shape\n",
    "b = np.random.randn(3,2)\n",
    "print(b)\n",
    "b = np.ceil(b)\n",
    "print(b)\n",
    "a.shape\n",
    "a\n",
    "\n",
    "np.random.randint?\n",
    "\n",
    "np.sort?\n",
    "\n",
    "start = 0\n",
    "stop = 200\n",
    "step = 20\n",
    "range_step = int(stop/step)\n",
    "\n",
    "interval_array = np.empty((0,1), dtype=int)\n",
    "for i in range(start, stop+1, range_step):\n",
    "    interval_array = np.append(interval_array, int(i))\n",
    "    \n",
    "interval_array #each value in this array is the stop value for generating random numbers in the range 0 - some_num\n",
    "    \n",
    "##############################################\n",
    "trial_test_array = np.random.randint(0, high=20, size=10) #initialize test array with presotedness = 0.5\n",
    "#np.random.shuffle(trial_test_array) #presotedness = 0.5\n",
    "print(trial_test_array)\n",
    "\n",
    "trial_test_array = np.sort(trial_test_array) #presortedness = 1\n",
    "print(trial_test_array)\n",
    "\n",
    "trial_test_array = np.flip(trial_test_array, axis=0) #presortedness = 0 run it right after presortedness is 1\n",
    "print(trial_test_array)\n",
    "####################################################\n",
    "\n",
    "#runtime for presortedness of 0\n",
    "presortedness = [0, 0.5, 1]\n",
    "rep = 5\n",
    "sorter_alg = [\"insertion_sort\", \"selection_sort\", \"merge_sort\", \"quick_sort\", \"heap_sort\"]\n",
    "sorter_alg_run_time = np.zeros((5,21)) #number of algorithms by number of intervals\n",
    "#for sorter in sorter_alg:\n",
    "#    for i in interval_array: #for each interval\n",
    "#        for j in presortedness: #for each degree of sortedness\n",
    "            \n",
    "            \n",
    "######################"
   ]
  },
  {
   "cell_type": "markdown",
   "metadata": {},
   "source": [
    "## Tests on algorithm "
   ]
  },
  {
   "cell_type": "code",
   "execution_count": null,
   "metadata": {
    "collapsed": true
   },
   "outputs": [],
   "source": [
    "##test for insertion sort algorithm implementation\n",
    "array_size = 5\n",
    "array_end = 10\n",
    "array_start = 1\n",
    "ins_sort = np.random.randint(array_start, high= array_end, size= array_size)\n",
    "print (ins_sort)\n",
    "\n",
    "start_time = time.time()\n",
    "ins_sort = insertion_sort(ins_sort)\n",
    "end_time = time.time()\n",
    "ins_sort_run_time = end_time - start_time\n",
    "\n",
    "print (ins_sort)\n",
    "print (\"sorted in %s seconds\" %(ins_sort_run_time))"
   ]
  },
  {
   "cell_type": "code",
   "execution_count": null,
   "metadata": {
    "collapsed": true
   },
   "outputs": [],
   "source": [
    "##test for selection sort algorithm implementation\n",
    "array_size = 10000\n",
    "array_end = 1000000\n",
    "array_start = 1\n",
    "sel_sort = np.random.randint(array_start, high= array_end, size= array_size)#np.array([1,4,5,2,9,3])\n",
    "print (sel_sort)\n",
    "\n",
    "start_time = time.time()\n",
    "sel_sort = selection_sort(sel_sort)\n",
    "end_time = time.time()\n",
    "sel_sort_run_time = end_time - start_time\n",
    "\n",
    "print (sel_sort)\n",
    "print (\"sorted in %s seconds\" %(sel_sort_run_time))"
   ]
  },
  {
   "cell_type": "code",
   "execution_count": null,
   "metadata": {
    "collapsed": true
   },
   "outputs": [],
   "source": [
    "##test for merge sort algorithm implementation\n",
    "array_size = 8\n",
    "array_end = 10\n",
    "array_start = 1\n",
    "mer_sort = np.random.randint(array_start, high= array_end, size= array_size)#np.array([1,4,5,2,9,3])\n",
    "print (mer_sort)\n",
    "\n",
    "start_time = time.time()\n",
    "mer_sort = merge_sort(mer_sort)\n",
    "end_time = time.time()\n",
    "mer_sort_run_time = end_time - start_time\n",
    "\n",
    "print (mer_sort)\n",
    "print (\"sorted in %s seconds\" %(mer_sort_run_time))"
   ]
  },
  {
   "cell_type": "code",
   "execution_count": null,
   "metadata": {
    "collapsed": true
   },
   "outputs": [],
   "source": [
    "##test for quick sort algorithm implementation\n",
    "array_size = 8\n",
    "array_end = 10\n",
    "array_start = 1\n",
    "qs_sort = np.random.randint(array_start, high= array_end, size= array_size)#np.array([1,4,5,2,9,3])\n",
    "print (qs_sort)\n",
    "\n",
    "start_time = time.time()\n",
    "qs_sort = quick_sort(qs_sort)\n",
    "end_time = time.time()\n",
    "qs_sort_run_time = end_time - start_time\n",
    "\n",
    "print (qs_sort)\n",
    "print (\"sorted in %s seconds\" %(qs_sort_run_time))"
   ]
  },
  {
   "cell_type": "code",
   "execution_count": null,
   "metadata": {
    "collapsed": true
   },
   "outputs": [],
   "source": [
    "##test for heap sort algorithm implementation\n",
    "array_size = 8\n",
    "array_end = 10\n",
    "array_start = 1\n",
    "hs_sort = np.random.randint(array_start, high= array_end, size= array_size)#np.array([1,4,5,2,9,3])\n",
    "print (hs_sort)\n",
    "\n",
    "start_time = time.time()\n",
    "hs_sort = heap_sort(hs_sort)\n",
    "end_time = time.time()\n",
    "hs_sort_run_time = end_time - start_time\n",
    "\n",
    "print (hs_sort)\n",
    "print (\"sorted in %s seconds\" %(hs_sort_run_time))"
   ]
  }
 ],
 "metadata": {
  "kernelspec": {
   "display_name": "Python 3",
   "language": "python",
   "name": "python3"
  },
  "language_info": {
   "codemirror_mode": {
    "name": "ipython",
    "version": 3
   },
   "file_extension": ".py",
   "mimetype": "text/x-python",
   "name": "python",
   "nbconvert_exporter": "python",
   "pygments_lexer": "ipython3",
   "version": "3.6.3"
  }
 },
 "nbformat": 4,
 "nbformat_minor": 2
}
