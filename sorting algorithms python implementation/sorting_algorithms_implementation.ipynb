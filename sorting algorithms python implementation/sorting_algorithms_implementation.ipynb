{
 "cells": [
  {
   "cell_type": "markdown",
   "metadata": {},
   "source": [
    "# Module Import"
   ]
  },
  {
   "cell_type": "code",
   "execution_count": 2,
   "metadata": {
    "collapsed": true
   },
   "outputs": [],
   "source": [
    "import numpy as np\n",
    "import time \n",
    "import math\n",
    "import sys\n",
    "import timeit\n",
    "import matplotlib.pyplot as plt\n",
    "import pylab as pyl"
   ]
  },
  {
   "cell_type": "markdown",
   "metadata": {},
   "source": [
    "# Insertion Sort"
   ]
  },
  {
   "cell_type": "code",
   "execution_count": 3,
   "metadata": {
    "collapsed": true
   },
   "outputs": [],
   "source": [
    "#implementation of insertion sort algorithm\n",
    "def insertion_sort(unsorted_is):\n",
    "    for j in range(1, unsorted_is.shape[0]):\n",
    "        key = unsorted_is[j]\n",
    "        i = j-1\n",
    "        while i>-1 and unsorted_is[i]>=key:\n",
    "            unsorted_is[i+1] = unsorted_is[i]\n",
    "            i-=1\n",
    "            \n",
    "        unsorted_is[i+1] = key\n",
    "    \n",
    "    return unsorted_is"
   ]
  },
  {
   "cell_type": "markdown",
   "metadata": {},
   "source": [
    "# Selection Sort"
   ]
  },
  {
   "cell_type": "code",
   "execution_count": 4,
   "metadata": {
    "collapsed": true,
    "scrolled": true
   },
   "outputs": [],
   "source": [
    "#implementation of selection sort algorithm\n",
    "def selection_sort(unsorted_ss):\n",
    "    for i in range(unsorted_ss.shape[0] - 1):\n",
    "        lowindex = i #unsorted_ss_min = unsorted_ss[i]\n",
    "        for j in reversed(range(i + 1, unsorted_ss.shape[0])):\n",
    "            if unsorted_ss[j]<unsorted_ss[lowindex]:\n",
    "                lowindex=j #unsorted_ss[i] = unsorted_ss[j]\n",
    "                #unsorted_ss[j] = unsorted_ss_min\n",
    "        unsorted_ss[i], unsorted_ss[lowindex] = unsorted_ss[lowindex], unsorted_ss[i]\n",
    "    \n",
    "        \n",
    "    return unsorted_ss"
   ]
  },
  {
   "cell_type": "markdown",
   "metadata": {},
   "source": [
    "# Merge Sort"
   ]
  },
  {
   "cell_type": "code",
   "execution_count": 5,
   "metadata": {
    "collapsed": true
   },
   "outputs": [],
   "source": [
    "###implementation of merge sort algorithm\n",
    "\n",
    "#definition of merge function\n",
    "def merge(left_sub_array, right_sub_array):\n",
    "    merged_array = np.zeros(left_sub_array.shape[0] + right_sub_array.shape[0])\n",
    "    \n",
    "    left_index = 0\n",
    "    right_index = 0\n",
    "    \n",
    "    for i in range(merged_array.shape[0]):\n",
    "        if left_sub_array[left_index] <= right_sub_array[right_index] :\n",
    "            merged_array[i] = left_sub_array[left_index]\n",
    "            if not (left_index + 1) >= left_sub_array.shape[0]:\n",
    "                left_index +=1\n",
    "            else:\n",
    "                left_sub_array[left_index] = sys.maxsize #sys.maxsize used as ininfity integer number\n",
    "        else :\n",
    "            merged_array[i] = right_sub_array[right_index]\n",
    "            if not (right_index + 1) >= right_sub_array.shape[0]:\n",
    "                right_index +=1\n",
    "            else:\n",
    "                right_sub_array[right_index] = sys.maxsize\n",
    "        \n",
    "    return merged_array\n",
    "\n",
    "#definition of merge_sort function\n",
    "def merge_sort(unsorted_ms):\n",
    "    if unsorted_ms.shape[0] == 1 :\n",
    "        return unsorted_ms\n",
    "    else :\n",
    "        L_sub_array, R_sub_array = np.array_split(ary=unsorted_ms, indices_or_sections=2)\n",
    "        \n",
    "        L_sub_array = merge_sort(L_sub_array)\n",
    "        R_sub_array = merge_sort(R_sub_array)\n",
    "        \n",
    "        return merge(L_sub_array, R_sub_array)"
   ]
  },
  {
   "cell_type": "markdown",
   "metadata": {},
   "source": [
    "# Quick Sort"
   ]
  },
  {
   "cell_type": "code",
   "execution_count": 6,
   "metadata": {
    "collapsed": true
   },
   "outputs": [],
   "source": [
    "### implementation of quick sort algorithm\n",
    "\n",
    "#definition of partition function\n",
    "def partition (unpartitioned):\n",
    "    unpartitioned_size = unpartitioned.shape[0]\n",
    "    \n",
    "    pivot = unpartitioned[unpartitioned_size - 1]\n",
    "    min_index = -1\n",
    "    \n",
    "    for i in range(unpartitioned_size-1):\n",
    "        if unpartitioned[i] <= pivot :\n",
    "            min_index += 1\n",
    "            unpartitioned[min_index], unpartitioned[i] = unpartitioned[i], unpartitioned[min_index]\n",
    "            \n",
    "    unpartitioned[min_index + 1], unpartitioned[unpartitioned_size - 1] = unpartitioned[unpartitioned_size - 1], unpartitioned[min_index + 1]\n",
    "    \n",
    "    return min_index + 1 , unpartitioned\n",
    "\n",
    "def quick_sort(unsorted_qs):\n",
    "    if unsorted_qs.shape[0] <= 1 :\n",
    "        return unsorted_qs\n",
    "    else:\n",
    "        partition_index, unsorted_qs = partition(unsorted_qs)\n",
    "        left_qs = unsorted_qs[:partition_index]\n",
    "        pivot_qs = np.array((1,))\n",
    "        pivot_qs[0] = unsorted_qs[partition_index]\n",
    "        right_qs = unsorted_qs[partition_index + 1 :]\n",
    "        \n",
    "        left_qs = quick_sort(left_qs)\n",
    "        right_qs = quick_sort(right_qs)\n",
    "        \n",
    "        return np.concatenate((left_qs, pivot_qs, right_qs))\n",
    "        "
   ]
  },
  {
   "cell_type": "markdown",
   "metadata": {},
   "source": [
    "# Heap Sort"
   ]
  },
  {
   "cell_type": "code",
   "execution_count": 7,
   "metadata": {
    "collapsed": true
   },
   "outputs": [],
   "source": [
    "### implementation of heap sort algorithm\n",
    "\n",
    "#definition of max_heapify function\n",
    "def max_heapify (non_heap_array, heap_start_index):\n",
    "    largest = heap_start_index\n",
    "    heap_size = non_heap_array.shape[0] - 1\n",
    "    #if left_child_index > (non_heap_array.shape[0] - 1)\n",
    "    left_child_index = 2*heap_start_index + 1\n",
    "    right_child_index = left_child_index + 1\n",
    "    \n",
    "    heap_size = non_heap_array.shape[0]\n",
    "    \n",
    "    if left_child_index < heap_size and non_heap_array[left_child_index] > non_heap_array[heap_start_index] :\n",
    "        largest = left_child_index\n",
    "    else :\n",
    "        largest = heap_start_index\n",
    "    \n",
    "    if right_child_index < heap_size and non_heap_array[right_child_index] > non_heap_array[largest] :\n",
    "        largest = right_child_index\n",
    "    \n",
    "    if not (largest == heap_start_index) :\n",
    "        non_heap_array[heap_start_index], non_heap_array[largest] = non_heap_array[largest], non_heap_array[heap_start_index]\n",
    "        non_heap_array = max_heapify(non_heap_array, largest)\n",
    "        \n",
    "    return non_heap_array\n",
    "\n",
    "#definition of build_max_heap function\n",
    "def build_max_heap (non_max_heap) :\n",
    "    for i in reversed(range(math.floor((non_max_heap.shape[0] - 1)/2))) :\n",
    "        non_max_heap = max_heapify(non_max_heap, i)\n",
    "        \n",
    "    return non_max_heap\n",
    "\n",
    "#definition of heap_sort function\n",
    "def heap_sort(unsorted_hs) :\n",
    "    unsorted_hs = build_max_heap(unsorted_hs)\n",
    "    \n",
    "    for i in reversed(range(1,unsorted_hs.shape[0])) :\n",
    "        unsorted_hs[0], unsorted_hs[i] = unsorted_hs[i], unsorted_hs[0]\n",
    "        temp_array = unsorted_hs[:i] #simulating heap_size - 1 of unsorted_hs\n",
    "        unsorted_hs = np.concatenate((max_heapify(temp_array, 0), unsorted_hs[i:]), axis=0)\n",
    "        \n",
    "    return unsorted_hs"
   ]
  },
  {
   "cell_type": "markdown",
   "metadata": {},
   "source": [
    "# Tests"
   ]
  },
  {
   "cell_type": "code",
   "execution_count": 8,
   "metadata": {
    "collapsed": true
   },
   "outputs": [],
   "source": [
    "##prepare intervals size\n",
    "start = 0\n",
    "stop = 100000\n",
    "step = 20\n",
    "range_step = int(stop/step)\n",
    "\n",
    "intervals_array = np.empty((0,1), dtype=int)\n",
    "for i in range(start, stop+1, range_step):\n",
    "    intervals_array = np.append(intervals_array, int(i))"
   ]
  },
  {
   "cell_type": "code",
   "execution_count": 9,
   "metadata": {
    "collapsed": true
   },
   "outputs": [],
   "source": [
    "#generate arrays for each interval size\n",
    "\n",
    "#dictionary of arrays with presortedness=0 for each interval\n",
    "dict0 = {0:np.array([1])}\n",
    "j = 1\n",
    "for i in intervals_array[1:]:\n",
    "    dict0[j] = np.flip(np.sort(np.random.randint(0, high=i, size=i)), axis=0)\n",
    "    j += 1\n",
    "    \n",
    "#dictionary of arrays with presortedness=0.5 for each interval\n",
    "dict0_5 = {0:np.array([1])}\n",
    "j = 1\n",
    "for i in intervals_array[1:]:\n",
    "    dict0_5[j] = np.random.randint(start, high=i, size=i)\n",
    "    j += 1    \n",
    "    \n",
    "#dictionary of arrays with presortedness=1 for each interval\n",
    "dict1 = {0:np.array([1])}\n",
    "j = 1\n",
    "for i in intervals_array[1:]:\n",
    "    dict1[j] = np.sort(np.random.randint(0, high=i, size=i))\n",
    "    j += 1\n",
    "\n"
   ]
  },
  {
   "cell_type": "markdown",
   "metadata": {},
   "source": [
    "## Test for presortedness = 0"
   ]
  },
  {
   "cell_type": "code",
   "execution_count": null,
   "metadata": {
    "collapsed": true
   },
   "outputs": [],
   "source": [
    "#(number of algorithms X number of intervals) array holding the runtime of each algorithm(row)\n",
    "#for sorting each interval's(column) array with presortedness=0\n",
    "rt0 = np.zeros((5,21))\n",
    "dict0_Isorted={}\n",
    "dict0_Ssorted={}\n",
    "dict0_Msorted={}\n",
    "dict0_Qsorted={}\n",
    "dict0_Hsorted={}\n",
    "\n",
    "range_in = len(dict0)\n",
    "###testing insertion sort\n",
    "for intervals in range(range_in):\n",
    "    #if sorter==\"insertion_sort\":\n",
    "    start_time = time.time()\n",
    "    dict0_Isorted[intervals] = insertion_sort(dict0[intervals])\n",
    "    end_time = time.time()\n",
    "    rt0[0][intervals] = end_time - start_time\n",
    "    \n",
    "###testing selection sort\n",
    "for intervals in range(range_in):\n",
    "    start_time = time.time()\n",
    "    dict0_Ssorted[intervals] = selection_sort(dict0[intervals])\n",
    "    end_time = time.time()\n",
    "    rt0[1][intervals] = end_time - start_time    \n",
    "    \n",
    "###testing merge sort\n",
    "for intervals in range(range_in):\n",
    "    start_time = time.time()\n",
    "    dict0_Msorted[intervals] = merge_sort(dict0[intervals])\n",
    "    end_time = time.time()\n",
    "    rt0[2][intervals] = end_time - start_time\n",
    "    \n",
    "###testing quick sort\n",
    "for intervals in range(range_in):\n",
    "    start_time = time.time()\n",
    "    dict0_Qsorted[intervals] = quick_sort(dict0[intervals])\n",
    "    end_time = time.time()\n",
    "    rt0[3][intervals] = end_time - start_time\n",
    "    \n",
    "###testing heap sort\n",
    "for intervals in range(range_in):\n",
    "    start_time = time.time()\n",
    "    dict0_Hsorted[intervals] = heap_sort(dict0[intervals])\n",
    "    end_time = time.time()\n",
    "    rt0[4][intervals] = end_time - start_time"
   ]
  },
  {
   "cell_type": "markdown",
   "metadata": {},
   "source": [
    "## Test for presortedness = 0.5"
   ]
  },
  {
   "cell_type": "code",
   "execution_count": null,
   "metadata": {
    "collapsed": true
   },
   "outputs": [],
   "source": [
    "#(number of algorithms X number of intervals) array holding the runtime of each algorithm(row)\n",
    "#for sorting each interval's(column) array with presortedness=0.5\n",
    "rt0_5 = np.zeros((5,21))\n",
    "dict0_5_Isorted={}\n",
    "dict0_5_Ssorted={}\n",
    "dict0_5_Msorted={}\n",
    "dict0_5_Qsorted={}\n",
    "dict0_5_Hsorted={}\n",
    "\n",
    "\n",
    "###testing insertion sort\n",
    "for intervals in range(range_in):\n",
    "    start_time = time.time()\n",
    "    dict0_5_Isorted[intervals] = insertion_sort(dict0_5[intervals])\n",
    "    end_time = time.time()\n",
    "    rt0_5[0][intervals] = end_time - start_time\n",
    "    \n",
    "###testing selection sort\n",
    "for intervals in range(range_in):\n",
    "    start_time = time.time()\n",
    "    dict0_5_Ssorted[intervals] = selection_sort(dict0_5[intervals])\n",
    "    end_time = time.time()\n",
    "    rt0_5[1][intervals] = end_time - start_time    \n",
    "    \n",
    "###testing merge sort\n",
    "for intervals in range(range_in):\n",
    "    start_time = time.time()\n",
    "    dict0_5_Msorted[intervals] = merge_sort(dict0_5[intervals])\n",
    "    end_time = time.time()\n",
    "    rt0_5[2][intervals] = end_time - start_time\n",
    "    \n",
    "###testing quick sort\n",
    "for intervals in range(range_in):\n",
    "    start_time = time.time()\n",
    "    dict0_5_Qsorted[intervals] = quick_sort(dict0_5[intervals])\n",
    "    end_time = time.time()\n",
    "    rt0_5[3][intervals] = end_time - start_time\n",
    "    \n",
    "###testing heap sort\n",
    "for intervals in range(range_in):\n",
    "    start_time = time.time()\n",
    "    dict0_5_Hsorted[intervals] = heap_sort(dict0_5[intervals])\n",
    "    end_time = time.time()\n",
    "    rt0_5[4][intervals] = end_time - start_time"
   ]
  },
  {
   "cell_type": "markdown",
   "metadata": {},
   "source": [
    "## Test for presortedness = 1"
   ]
  },
  {
   "cell_type": "code",
   "execution_count": 10,
   "metadata": {},
   "outputs": [
    {
     "ename": "KeyboardInterrupt",
     "evalue": "",
     "output_type": "error",
     "traceback": [
      "\u001b[0;31m---------------------------------------------------------------------------\u001b[0m",
      "\u001b[0;31mKeyboardInterrupt\u001b[0m                         Traceback (most recent call last)",
      "\u001b[0;32m<ipython-input-10-205e3d290386>\u001b[0m in \u001b[0;36m<module>\u001b[0;34m()\u001b[0m\n\u001b[1;32m     13\u001b[0m     \u001b[0;31m#if sorter==\"insertion_sort\":\u001b[0m\u001b[0;34m\u001b[0m\u001b[0;34m\u001b[0m\u001b[0m\n\u001b[1;32m     14\u001b[0m     \u001b[0mstart_time\u001b[0m \u001b[0;34m=\u001b[0m \u001b[0mtime\u001b[0m\u001b[0;34m.\u001b[0m\u001b[0mtime\u001b[0m\u001b[0;34m(\u001b[0m\u001b[0;34m)\u001b[0m\u001b[0;34m\u001b[0m\u001b[0m\n\u001b[0;32m---> 15\u001b[0;31m     \u001b[0mdict0_Isorted\u001b[0m\u001b[0;34m[\u001b[0m\u001b[0mintervals\u001b[0m\u001b[0;34m]\u001b[0m \u001b[0;34m=\u001b[0m \u001b[0minsertion_sort\u001b[0m\u001b[0;34m(\u001b[0m\u001b[0mdict0\u001b[0m\u001b[0;34m[\u001b[0m\u001b[0mintervals\u001b[0m\u001b[0;34m]\u001b[0m\u001b[0;34m)\u001b[0m\u001b[0;34m\u001b[0m\u001b[0m\n\u001b[0m\u001b[1;32m     16\u001b[0m     \u001b[0mend_time\u001b[0m \u001b[0;34m=\u001b[0m \u001b[0mtime\u001b[0m\u001b[0;34m.\u001b[0m\u001b[0mtime\u001b[0m\u001b[0;34m(\u001b[0m\u001b[0;34m)\u001b[0m\u001b[0;34m\u001b[0m\u001b[0m\n\u001b[1;32m     17\u001b[0m     \u001b[0mrt0\u001b[0m\u001b[0;34m[\u001b[0m\u001b[0;36m0\u001b[0m\u001b[0;34m]\u001b[0m\u001b[0;34m[\u001b[0m\u001b[0mintervals\u001b[0m\u001b[0;34m]\u001b[0m \u001b[0;34m=\u001b[0m \u001b[0mend_time\u001b[0m \u001b[0;34m-\u001b[0m \u001b[0mstart_time\u001b[0m\u001b[0;34m\u001b[0m\u001b[0m\n",
      "\u001b[0;32m<ipython-input-3-83f9a3f732c9>\u001b[0m in \u001b[0;36minsertion_sort\u001b[0;34m(unsorted_is)\u001b[0m\n\u001b[1;32m      6\u001b[0m         \u001b[0;32mwhile\u001b[0m \u001b[0mi\u001b[0m\u001b[0;34m>\u001b[0m\u001b[0;34m-\u001b[0m\u001b[0;36m1\u001b[0m \u001b[0;32mand\u001b[0m \u001b[0munsorted_is\u001b[0m\u001b[0;34m[\u001b[0m\u001b[0mi\u001b[0m\u001b[0;34m]\u001b[0m\u001b[0;34m>=\u001b[0m\u001b[0mkey\u001b[0m\u001b[0;34m:\u001b[0m\u001b[0;34m\u001b[0m\u001b[0m\n\u001b[1;32m      7\u001b[0m             \u001b[0munsorted_is\u001b[0m\u001b[0;34m[\u001b[0m\u001b[0mi\u001b[0m\u001b[0;34m+\u001b[0m\u001b[0;36m1\u001b[0m\u001b[0;34m]\u001b[0m \u001b[0;34m=\u001b[0m \u001b[0munsorted_is\u001b[0m\u001b[0;34m[\u001b[0m\u001b[0mi\u001b[0m\u001b[0;34m]\u001b[0m\u001b[0;34m\u001b[0m\u001b[0m\n\u001b[0;32m----> 8\u001b[0;31m             \u001b[0mi\u001b[0m\u001b[0;34m-=\u001b[0m\u001b[0;36m1\u001b[0m\u001b[0;34m\u001b[0m\u001b[0m\n\u001b[0m\u001b[1;32m      9\u001b[0m \u001b[0;34m\u001b[0m\u001b[0m\n\u001b[1;32m     10\u001b[0m         \u001b[0munsorted_is\u001b[0m\u001b[0;34m[\u001b[0m\u001b[0mi\u001b[0m\u001b[0;34m+\u001b[0m\u001b[0;36m1\u001b[0m\u001b[0;34m]\u001b[0m \u001b[0;34m=\u001b[0m \u001b[0mkey\u001b[0m\u001b[0;34m\u001b[0m\u001b[0m\n",
      "\u001b[0;31mKeyboardInterrupt\u001b[0m: "
     ]
    }
   ],
   "source": [
    "#(number of algorithms X number of intervals) array holding the runtime of each algorithm(row)\n",
    "#for sorting each interval's(column) array with presortedness=1\n",
    "rt1 = np.zeros((5,21))\n",
    "dict1_Isorted={}\n",
    "dict1_Ssorted={}\n",
    "dict1_Msorted={}\n",
    "dict1_Qsorted={}\n",
    "dict1_Hsorted={}\n",
    "\n",
    "\n",
    "###testing insertion sort\n",
    "for intervals in range(range_in):\n",
    "    start_time = time.time()\n",
    "    dict1_Isorted[intervals] = insertion_sort(dict1[intervals])\n",
    "    end_time = time.time()\n",
    "    rt1[0][intervals] = end_time - start_time\n",
    "    \n",
    "###testing selection sort\n",
    "for intervals in range(range_in):\n",
    "    start_time = time.time()\n",
    "    dict1_Ssorted[intervals] = selection_sort(dict1[intervals])\n",
    "    end_time = time.time()\n",
    "    rt1[1][intervals] = end_time - start_time    \n",
    "    \n",
    "###testing merge sort\n",
    "for intervals in range(range_in):\n",
    "    start_time = time.time()\n",
    "    dict1_Msorted[intervals] = merge_sort(dict1[intervals])\n",
    "    end_time = time.time()\n",
    "    rt1[2][intervals] = end_time - start_time\n",
    "    \n",
    "###testing quick sort\n",
    "for intervals in range(range_in):\n",
    "    start_time = time.time()\n",
    "    dict1_Qsorted[intervals] = quick_sort(dict1[intervals])\n",
    "    end_time = time.time()\n",
    "    rt1[3][intervals] = end_time - start_time\n",
    "    \n",
    "###testing heap sort\n",
    "for intervals in range(range_in):\n",
    "    start_time = time.time()\n",
    "    dict1_Hsorted[intervals] = heap_sort(dict1[intervals])\n",
    "    end_time = time.time()\n",
    "    rt1[4][intervals] = end_time - start_time"
   ]
  },
  {
   "cell_type": "markdown",
   "metadata": {},
   "source": [
    "    "
   ]
  },
  {
   "cell_type": "markdown",
   "metadata": {},
   "source": [
    "   "
   ]
  },
  {
   "cell_type": "markdown",
   "metadata": {},
   "source": [
    "    "
   ]
  },
  {
   "cell_type": "markdown",
   "metadata": {},
   "source": [
    "print(dict0)"
   ]
  },
  {
   "cell_type": "code",
   "execution_count": 11,
   "metadata": {},
   "outputs": [
    {
     "data": {
      "image/png": "[encoded data removed]",
      "text/plain": [
       "<matplotlib.figure.Figure at 0x7fee9da6f7f0>"
      ]
     },
     "metadata": {},
     "output_type": "display_data"
    },
    {
     "data": {
      "image/png": "[encoded data removed]",
      "text/plain": [
       "<matplotlib.figure.Figure at 0x7fee9c97bc18>"
      ]
     },
     "metadata": {},
     "output_type": "display_data"
    }
   ],
   "source": [
    "a = [1,2,3]\n",
    "b = [4,5,6]\n",
    "c = [7,8,9]\n",
    "plt.plot( intervals_array, rt0[0][:], color='g')  #insertion sort\n",
    "plt.plot( intervals_array, rt0[1][:], color='b')  #selection sort\n",
    "plt.plot( intervals_array, rt0[2][:], color='r')  #merge sort\n",
    "plt.plot( intervals_array, rt0[3][:], color='y')  #quick sort\n",
    "plt.plot( intervals_array, rt0[4][:], color='orange')   #heap sort\n",
    "plt.ylabel(\"Run time\")\n",
    "plt.xlabel(\"Number of inputs\")\n",
    "plt.savefig('presortednes0 with 2000.png')\n",
    "plt.show()\n",
    "\n",
    "pyl.plot( rt0[0][:], intervals_array, color='g', label='insertion sort')  #insertion sort\n",
    "pyl.plot( rt0[1][:], intervals_array, color='b', label='selection sort')  #selection sort\n",
    "pyl.plot( rt0[2][:], intervals_array, color='r', label='merge sort')  #merge sort\n",
    "pyl.plot( rt0[3][:], intervals_array, color='y', label='quick sort')  #quick sort\n",
    "pyl.plot( rt0[4][:], intervals_array, color='orange', label='heap sort')   #heap sort\n",
    "pyl.legend( loc=1, ncol=5)\n",
    "pyl.xlabel(\"Run time\")\n",
    "pyl.ylabel(\"Number of inputs\")\n",
    "pyl.show()\n"
   ]
  },
  {
   "cell_type": "markdown",
   "metadata": {},
   "source": [
    "for i in range(len(dict0)):\n",
    "    #print (i)"
   ]
  },
  {
   "cell_type": "markdown",
   "metadata": {},
   "source": [
    "dict0 = {0:np.array([1])}\n",
    "j = 1\n",
    "for i in interval_array[1:]:\n",
    "    dict0[j] = np.flip(np.sort(np.random.randint(0, high=i, size=i)), axis=0)\n",
    "    j += 1\n",
    "print(dict0)\n",
    "print(len(dict0))"
   ]
  },
  {
   "cell_type": "markdown",
   "metadata": {},
   "source": [
    "dict0_sorted={}\n",
    "rt0 = np.zeros((5,21))\n",
    "#for sorter in sorter_alg:\n",
    "for intervals in range(len(dict0)):\n",
    "    #if sorter==\"insertion_sort\":\n",
    "    start_time = time.time()\n",
    "    dict0_sorted[intervals] = insertion_sort(dict0[intervals])\n",
    "    end_time = time.time()\n",
    "    rt0[0][intervals] = end_time - start_time\n",
    "    \n",
    "print(dict0)\n",
    "print(dict0_sorted)\n",
    "print(rt0[0][:])\n",
    "print(len(rt0[0][:]))"
   ]
  }
 ],
 "metadata": {
  "kernelspec": {
   "display_name": "Python 3",
   "language": "python",
   "name": "python3"
  },
  "language_info": {
   "codemirror_mode": {
    "name": "ipython",
    "version": 3
   },
   "file_extension": ".py",
   "mimetype": "text/x-python",
   "name": "python",
   "nbconvert_exporter": "python",
   "pygments_lexer": "ipython3",
   "version": "3.6.3"
  }
 },
 "nbformat": 4,
 "nbformat_minor": 2
}
