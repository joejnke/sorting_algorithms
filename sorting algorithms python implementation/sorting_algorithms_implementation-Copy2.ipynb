{
 "cells": [
  {
   "cell_type": "markdown",
   "metadata": {},
   "source": [
    "# Module Import"
   ]
  },
  {
   "cell_type": "code",
   "execution_count": 1,
   "metadata": {},
   "outputs": [],
   "source": [
    "import numpy as np\n",
    "import time \n",
    "import math\n",
    "import sys\n",
    "import timeit\n",
    "import matplotlib.pyplot as plt\n",
    "import pylab as pyl\n",
    "from threading import Thread\n",
    "import csv"
   ]
  },
  {
   "cell_type": "markdown",
   "metadata": {},
   "source": [
    "# Insertion Sort"
   ]
  },
  {
   "cell_type": "code",
   "execution_count": 2,
   "metadata": {
    "collapsed": true
   },
   "outputs": [],
   "source": [
    "#implementation of insertion sort algorithm\n",
    "def insertion_sort(unsorted_is):\n",
    "    for j in range(1, unsorted_is.shape[0]):\n",
    "        key = unsorted_is[j]\n",
    "        i = j-1\n",
    "        while i>-1 and unsorted_is[i]>=key:\n",
    "            unsorted_is[i+1] = unsorted_is[i]\n",
    "            i-=1\n",
    "            \n",
    "        unsorted_is[i+1] = key\n",
    "    \n",
    "    return unsorted_is"
   ]
  },
  {
   "cell_type": "markdown",
   "metadata": {},
   "source": [
    "# Selection Sort"
   ]
  },
  {
   "cell_type": "code",
   "execution_count": 3,
   "metadata": {
    "collapsed": true,
    "scrolled": true
   },
   "outputs": [],
   "source": [
    "#implementation of selection sort algorithm\n",
    "def selection_sort(unsorted_ss):\n",
    "    for i in range(unsorted_ss.shape[0] - 1):\n",
    "        lowindex = i #unsorted_ss_min = unsorted_ss[i]\n",
    "        for j in reversed(range(i + 1, unsorted_ss.shape[0])):\n",
    "            if unsorted_ss[j]<unsorted_ss[lowindex]:\n",
    "                lowindex=j #unsorted_ss[i] = unsorted_ss[j]\n",
    "                #unsorted_ss[j] = unsorted_ss_min\n",
    "        unsorted_ss[i], unsorted_ss[lowindex] = unsorted_ss[lowindex], unsorted_ss[i]\n",
    "    \n",
    "        \n",
    "    return unsorted_ss"
   ]
  },
  {
   "cell_type": "markdown",
   "metadata": {},
   "source": [
    "# Merge Sort"
   ]
  },
  {
   "cell_type": "code",
   "execution_count": 4,
   "metadata": {
    "collapsed": true
   },
   "outputs": [],
   "source": [
    "###implementation of merge sort algorithm\n",
    "\n",
    "#definition of merge function\n",
    "def merge(left_sub_array, right_sub_array):\n",
    "    merged_array = np.zeros(left_sub_array.shape[0] + right_sub_array.shape[0])\n",
    "    \n",
    "    left_index = 0\n",
    "    right_index = 0\n",
    "    \n",
    "    for i in range(merged_array.shape[0]):\n",
    "        if left_sub_array[left_index] <= right_sub_array[right_index] :\n",
    "            merged_array[i] = left_sub_array[left_index]\n",
    "            if not (left_index + 1) >= left_sub_array.shape[0]:\n",
    "                left_index +=1\n",
    "            else:\n",
    "                left_sub_array[left_index] = sys.maxsize #sys.maxsize used as ininfity integer number\n",
    "        else :\n",
    "            merged_array[i] = right_sub_array[right_index]\n",
    "            if not (right_index + 1) >= right_sub_array.shape[0]:\n",
    "                right_index +=1\n",
    "            else:\n",
    "                right_sub_array[right_index] = sys.maxsize\n",
    "        \n",
    "    return merged_array\n",
    "\n",
    "#definition of merge_sort function\n",
    "def merge_sort(unsorted_ms):\n",
    "    if unsorted_ms.shape[0] == 1 :\n",
    "        return unsorted_ms\n",
    "    else :\n",
    "        L_sub_array, R_sub_array = np.array_split(ary=unsorted_ms, indices_or_sections=2)\n",
    "        \n",
    "        L_sub_array = merge_sort(L_sub_array)\n",
    "        R_sub_array = merge_sort(R_sub_array)\n",
    "        \n",
    "        return merge(L_sub_array, R_sub_array)"
   ]
  },
  {
   "cell_type": "markdown",
   "metadata": {},
   "source": [
    "# Quick Sort"
   ]
  },
  {
   "cell_type": "code",
   "execution_count": 5,
   "metadata": {
    "collapsed": true
   },
   "outputs": [],
   "source": [
    "### implementation of quick sort algorithm\n",
    "\n",
    "#definition of partition function\n",
    "def partition (unpartitioned):\n",
    "    unpartitioned_size = unpartitioned.shape[0]\n",
    "    \n",
    "    pivot = unpartitioned[unpartitioned_size - 1]\n",
    "    min_index = -1\n",
    "    \n",
    "    for i in range(unpartitioned_size-1):\n",
    "        if unpartitioned[i] <= pivot :\n",
    "            min_index += 1\n",
    "            unpartitioned[min_index], unpartitioned[i] = unpartitioned[i], unpartitioned[min_index]\n",
    "            \n",
    "    unpartitioned[min_index + 1], unpartitioned[unpartitioned_size - 1] = unpartitioned[unpartitioned_size - 1], unpartitioned[min_index + 1]\n",
    "    \n",
    "    return min_index + 1 , unpartitioned\n",
    "\n",
    "def quick_sort(unsorted_qs):\n",
    "    if unsorted_qs.shape[0] <= 1 :\n",
    "        return unsorted_qs\n",
    "    else:\n",
    "        partition_index, unsorted_qs = partition(unsorted_qs)\n",
    "        left_qs = unsorted_qs[:partition_index]\n",
    "        pivot_qs = np.array((1,))\n",
    "        pivot_qs[0] = unsorted_qs[partition_index]\n",
    "        right_qs = unsorted_qs[partition_index + 1 :]\n",
    "        \n",
    "        left_qs = quick_sort(left_qs)\n",
    "        right_qs = quick_sort(right_qs)\n",
    "        \n",
    "        return np.concatenate((left_qs, pivot_qs, right_qs))\n",
    "        "
   ]
  },
  {
   "cell_type": "markdown",
   "metadata": {},
   "source": [
    "# Heap Sort"
   ]
  },
  {
   "cell_type": "code",
   "execution_count": 5,
   "metadata": {
    "collapsed": true
   },
   "outputs": [],
   "source": [
    "### implementation of heap sort algorithm\n",
    "\n",
    "#definition of max_heapify function\n",
    "def max_heapify (non_heap_array, heap_start_index):\n",
    "    largest = heap_start_index\n",
    "    heap_size = non_heap_array.shape[0] - 1\n",
    "    #if left_child_index > (non_heap_array.shape[0] - 1)\n",
    "    left_child_index = 2*heap_start_index + 1\n",
    "    right_child_index = left_child_index + 1\n",
    "    \n",
    "    heap_size = non_heap_array.shape[0]\n",
    "    \n",
    "    if left_child_index < heap_size and non_heap_array[left_child_index] > non_heap_array[heap_start_index] :\n",
    "        largest = left_child_index\n",
    "    else :\n",
    "        largest = heap_start_index\n",
    "    \n",
    "    if right_child_index < heap_size and non_heap_array[right_child_index] > non_heap_array[largest] :\n",
    "        largest = right_child_index\n",
    "    \n",
    "    if not (largest == heap_start_index) :\n",
    "        non_heap_array[heap_start_index], non_heap_array[largest] = non_heap_array[largest], non_heap_array[heap_start_index]\n",
    "        non_heap_array = max_heapify(non_heap_array, largest)\n",
    "        \n",
    "    return non_heap_array\n",
    "\n",
    "#definition of build_max_heap function\n",
    "def build_max_heap (non_max_heap) :\n",
    "    for i in reversed(range(math.floor((non_max_heap.shape[0] - 1)/2))) :\n",
    "        non_max_heap = max_heapify(non_max_heap, i)\n",
    "        \n",
    "    return non_max_heap\n",
    "\n",
    "#definition of heap_sort function\n",
    "def heap_sort(unsorted_hs) :\n",
    "    unsorted_hs = build_max_heap(unsorted_hs)\n",
    "    \n",
    "    for i in reversed(range(1,unsorted_hs.shape[0])) :\n",
    "        unsorted_hs[0], unsorted_hs[i] = unsorted_hs[i], unsorted_hs[0]\n",
    "        temp_array = unsorted_hs[:i] #simulating heap_size - 1 of unsorted_hs\n",
    "        unsorted_hs = np.concatenate((max_heapify(temp_array, 0), unsorted_hs[i:]), axis=0)\n",
    "        \n",
    "    return unsorted_hs"
   ]
  },
  {
   "cell_type": "markdown",
   "metadata": {},
   "source": [
    "# Start of Tests"
   ]
  },
  {
   "cell_type": "code",
   "execution_count": 8,
   "metadata": {
    "collapsed": true
   },
   "outputs": [],
   "source": [
    "##prepare intervals size\n",
    "start = 0\n",
    "stop = 10000\n",
    "step = 20\n",
    "range_step = int(stop/step)\n",
    "\n",
    "intervals_array = np.empty((0,1), dtype=int)\n",
    "for i in range(start, stop+1, range_step):\n",
    "    intervals_array = np.append(intervals_array, int(i))"
   ]
  },
  {
   "cell_type": "code",
   "execution_count": 9,
   "metadata": {},
   "outputs": [
    {
     "data": {
      "text/plain": [
       "array([    0,   500,  1000,  1500,  2000,  2500,  3000,  3500,  4000,\n",
       "        4500,  5000,  5500,  6000,  6500,  7000,  7500,  8000,  8500,\n",
       "        9000,  9500, 10000])"
      ]
     },
     "execution_count": 9,
     "metadata": {},
     "output_type": "execute_result"
    }
   ],
   "source": [
    "intervals_array"
   ]
  },
  {
   "cell_type": "code",
   "execution_count": 10,
   "metadata": {
    "collapsed": true
   },
   "outputs": [],
   "source": [
    "#generate arrays for each interval size\n",
    "\n",
    "#dictionary of arrays with presortedness=0 for each interval\n",
    "dict0 = {0:np.array([1])}\n",
    "j = 1\n",
    "for i in intervals_array[1:]:\n",
    "    dict0[j] = np.flip(np.sort(np.random.randint(0, high=i, size=i)), axis=0)\n",
    "    j += 1\n",
    "    \n",
    "#dictionary of arrays with presortedness=0.5 for each interval\n",
    "dict0_5 = {0:np.array([1])}\n",
    "j = 1\n",
    "for i in intervals_array[1:]:\n",
    "    dict0_5[j] = np.random.randint(start, high=i, size=i)\n",
    "    j += 1    \n",
    "    \n",
    "#dictionary of arrays with presortedness=1 for each interval\n",
    "dict1 = {0:np.array([1])}\n",
    "j = 1\n",
    "for i in intervals_array[1:]:\n",
    "    dict1[j] = np.sort(np.random.randint(0, high=i, size=i))\n",
    "    j += 1\n",
    "\n"
   ]
  },
  {
   "cell_type": "markdown",
   "metadata": {},
   "source": [
    "### Thread to run sort of the whole intervals concurently"
   ]
  },
  {
   "cell_type": "code",
   "execution_count": 11,
   "metadata": {
    "collapsed": true
   },
   "outputs": [],
   "source": [
    "class my_thread(Thread):\n",
    "    def __init__(self, group=None, target=None, name=None, args=(), kwargs={}, Verbose=None):\n",
    "        Thread.__init__(self, group, target, name, args, kwargs)\n",
    "        self._return = None\n",
    "    def run(self):\n",
    "        if self._target is not None:\n",
    "            self._return = self._target(*self._args, **self._kwargs)\n",
    "    \n",
    "    def join(self, *args):\n",
    "        Thread.join(self, *args)\n",
    "        return self._return"
   ]
  },
  {
   "cell_type": "markdown",
   "metadata": {},
   "source": [
    "## Test for presortedness = 0"
   ]
  },
  {
   "cell_type": "code",
   "execution_count": 12,
   "metadata": {
    "collapsed": true
   },
   "outputs": [],
   "source": [
    "#(number of algorithms X number of intervals) array holding the runtime of each algorithm(row)\n",
    "#for sorting each interval's(column) array with presortedness=0\n",
    "rt0 = np.zeros((5,21))\n",
    "dict0_Isorted={}\n",
    "dict0_Ssorted={}\n",
    "dict0_Msorted={}\n",
    "dict0_Qsorted={}\n",
    "dict0_Hsorted={}\n",
    "\n",
    "range_in = len(dict0)"
   ]
  },
  {
   "cell_type": "markdown",
   "metadata": {},
   "source": [
    "### testing insertion sort"
   ]
  },
  {
   "cell_type": "code",
   "execution_count": 12,
   "metadata": {},
   "outputs": [
    {
     "name": "stderr",
     "output_type": "stream",
     "text": [
      "ERROR:root:Internal Python error in the inspect module.\n",
      "Below is the traceback from this internal error.\n",
      "\n"
     ]
    },
    {
     "name": "stdout",
     "output_type": "stream",
     "text": [
      "Traceback (most recent call last):\n",
      "  File \"/home/kira/anaconda3/lib/python3.6/site-packages/IPython/core/interactiveshell.py\", line 2862, in run_code\n",
      "    exec(code_obj, self.user_global_ns, self.user_ns)\n",
      "  File \"<ipython-input-12-9ed09e18c80c>\", line 13, in <module>\n",
      "    rt0[0][intervals] = sorting[intervals].join()\n",
      "  File \"<ipython-input-10-b9a1c2e9e11a>\", line 10, in join\n",
      "    Thread.join(self, *args)\n",
      "  File \"/home/kira/anaconda3/lib/python3.6/threading.py\", line 1056, in join\n",
      "    self._wait_for_tstate_lock()\n",
      "  File \"/home/kira/anaconda3/lib/python3.6/threading.py\", line 1072, in _wait_for_tstate_lock\n",
      "    elif lock.acquire(block, timeout):\n",
      "KeyboardInterrupt\n",
      "\n",
      "During handling of the above exception, another exception occurred:\n",
      "\n",
      "Traceback (most recent call last):\n",
      "  File \"/home/kira/anaconda3/lib/python3.6/site-packages/IPython/core/interactiveshell.py\", line 1806, in showtraceback\n",
      "    stb = value._render_traceback_()\n",
      "AttributeError: 'KeyboardInterrupt' object has no attribute '_render_traceback_'\n",
      "\n",
      "During handling of the above exception, another exception occurred:\n",
      "\n",
      "Traceback (most recent call last):\n",
      "  File \"/home/kira/anaconda3/lib/python3.6/site-packages/IPython/core/ultratb.py\", line 1090, in get_records\n",
      "    return _fixed_getinnerframes(etb, number_of_lines_of_context, tb_offset)\n",
      "  File \"/home/kira/anaconda3/lib/python3.6/site-packages/IPython/core/ultratb.py\", line 311, in wrapped\n",
      "    return f(*args, **kwargs)\n",
      "  File \"/home/kira/anaconda3/lib/python3.6/site-packages/IPython/core/ultratb.py\", line 345, in _fixed_getinnerframes\n",
      "    records = fix_frame_records_filenames(inspect.getinnerframes(etb, context))\n",
      "  File \"/home/kira/anaconda3/lib/python3.6/inspect.py\", line 1480, in getinnerframes\n",
      "    frameinfo = (tb.tb_frame,) + getframeinfo(tb, context)\n",
      "  File \"/home/kira/anaconda3/lib/python3.6/inspect.py\", line 1438, in getframeinfo\n",
      "    filename = getsourcefile(frame) or getfile(frame)\n",
      "  File \"/home/kira/anaconda3/lib/python3.6/inspect.py\", line 693, in getsourcefile\n",
      "    if getattr(getmodule(object, filename), '__loader__', None) is not None:\n",
      "  File \"/home/kira/anaconda3/lib/python3.6/inspect.py\", line 739, in getmodule\n",
      "    os.path.realpath(f)] = module.__name__\n",
      "  File \"/home/kira/anaconda3/lib/python3.6/posixpath.py\", line 386, in realpath\n",
      "    path, ok = _joinrealpath(filename[:0], filename, {})\n",
      "  File \"/home/kira/anaconda3/lib/python3.6/posixpath.py\", line 420, in _joinrealpath\n",
      "    if not islink(newpath):\n",
      "  File \"/home/kira/anaconda3/lib/python3.6/posixpath.py\", line 169, in islink\n",
      "    st = os.lstat(path)\n",
      "KeyboardInterrupt\n"
     ]
    },
    {
     "ename": "KeyboardInterrupt",
     "evalue": "",
     "output_type": "error",
     "traceback": [
      "\u001b[0;31m---------------------------------------------------------------------------\u001b[0m"
     ]
    }
   ],
   "source": [
    "###testing insertion sort\n",
    "def isort_run_time(dict0_Isorted, dict0, intervals):\n",
    "    start_time = time.clock()\n",
    "    dict0_Isorted[intervals] = insertion_sort(dict0[intervals])\n",
    "    end_time = time.clock()\n",
    "    \n",
    "    return end_time - start_time\n",
    "\n",
    "sorting = [None]*range_in\n",
    "for intervals in range(range_in):\n",
    "    sorting[intervals] = my_thread(target=isort_run_time, args=(dict0_Isorted, dict0, intervals))\n",
    "    sorting[intervals].start()\n",
    "    rt0[0][intervals] = sorting[intervals].join()\n"
   ]
  },
  {
   "cell_type": "code",
   "execution_count": 13,
   "metadata": {},
   "outputs": [
    {
     "name": "stdout",
     "output_type": "stream",
     "text": [
      "[  8.00000000e-06   1.31900200e+00   5.43573800e+00   1.24840060e+01\n",
      "   2.13339540e+01   3.30332680e+01   4.79568180e+01   6.51529840e+01\n",
      "   8.48245460e+01   1.08212314e+02   1.32871711e+02   1.62972091e+02\n",
      "   2.04173980e+02   2.29510906e+02   2.73763825e+02   3.10970369e+02\n",
      "   3.40607025e+02   3.94718940e+02   0.00000000e+00   0.00000000e+00\n",
      "   0.00000000e+00]\n"
     ]
    }
   ],
   "source": [
    "print(rt0[0][:])#step = 10000"
   ]
  },
  {
   "cell_type": "markdown",
   "metadata": {},
   "source": [
    "### testing selection sort"
   ]
  },
  {
   "cell_type": "code",
   "execution_count": 14,
   "metadata": {},
   "outputs": [
    {
     "name": "stderr",
     "output_type": "stream",
     "text": [
      "ERROR:root:Internal Python error in the inspect module.\n",
      "Below is the traceback from this internal error.\n",
      "\n"
     ]
    },
    {
     "name": "stdout",
     "output_type": "stream",
     "text": [
      "Traceback (most recent call last):\n",
      "  File \"/home/kira/anaconda3/lib/python3.6/site-packages/IPython/core/interactiveshell.py\", line 2862, in run_code\n",
      "    exec(code_obj, self.user_global_ns, self.user_ns)\n",
      "  File \"<ipython-input-14-4cee5074f32d>\", line 13, in <module>\n",
      "    rt0[1][intervals] = sorting[intervals].join()\n",
      "  File \"<ipython-input-10-b9a1c2e9e11a>\", line 10, in join\n",
      "    Thread.join(self, *args)\n",
      "  File \"/home/kira/anaconda3/lib/python3.6/threading.py\", line 1056, in join\n",
      "    self._wait_for_tstate_lock()\n",
      "  File \"/home/kira/anaconda3/lib/python3.6/threading.py\", line 1072, in _wait_for_tstate_lock\n",
      "    elif lock.acquire(block, timeout):\n",
      "KeyboardInterrupt\n",
      "\n",
      "During handling of the above exception, another exception occurred:\n",
      "\n",
      "Traceback (most recent call last):\n",
      "  File \"/home/kira/anaconda3/lib/python3.6/site-packages/IPython/core/interactiveshell.py\", line 1806, in showtraceback\n",
      "    stb = value._render_traceback_()\n",
      "AttributeError: 'KeyboardInterrupt' object has no attribute '_render_traceback_'\n",
      "\n",
      "During handling of the above exception, another exception occurred:\n",
      "\n",
      "Traceback (most recent call last):\n",
      "  File \"/home/kira/anaconda3/lib/python3.6/site-packages/IPython/core/ultratb.py\", line 1090, in get_records\n",
      "    return _fixed_getinnerframes(etb, number_of_lines_of_context, tb_offset)\n",
      "  File \"/home/kira/anaconda3/lib/python3.6/site-packages/IPython/core/ultratb.py\", line 311, in wrapped\n",
      "    return f(*args, **kwargs)\n",
      "  File \"/home/kira/anaconda3/lib/python3.6/site-packages/IPython/core/ultratb.py\", line 345, in _fixed_getinnerframes\n",
      "    records = fix_frame_records_filenames(inspect.getinnerframes(etb, context))\n",
      "  File \"/home/kira/anaconda3/lib/python3.6/inspect.py\", line 1480, in getinnerframes\n",
      "    frameinfo = (tb.tb_frame,) + getframeinfo(tb, context)\n",
      "  File \"/home/kira/anaconda3/lib/python3.6/inspect.py\", line 1438, in getframeinfo\n",
      "    filename = getsourcefile(frame) or getfile(frame)\n",
      "  File \"/home/kira/anaconda3/lib/python3.6/inspect.py\", line 693, in getsourcefile\n",
      "    if getattr(getmodule(object, filename), '__loader__', None) is not None:\n",
      "  File \"/home/kira/anaconda3/lib/python3.6/inspect.py\", line 739, in getmodule\n",
      "    os.path.realpath(f)] = module.__name__\n",
      "  File \"/home/kira/anaconda3/lib/python3.6/posixpath.py\", line 386, in realpath\n",
      "    path, ok = _joinrealpath(filename[:0], filename, {})\n",
      "  File \"/home/kira/anaconda3/lib/python3.6/posixpath.py\", line 420, in _joinrealpath\n",
      "    if not islink(newpath):\n",
      "  File \"/home/kira/anaconda3/lib/python3.6/posixpath.py\", line 169, in islink\n",
      "    st = os.lstat(path)\n",
      "KeyboardInterrupt\n"
     ]
    },
    {
     "ename": "KeyboardInterrupt",
     "evalue": "",
     "output_type": "error",
     "traceback": [
      "\u001b[0;31m---------------------------------------------------------------------------\u001b[0m"
     ]
    }
   ],
   "source": [
    "###testing selection sort\n",
    "def ssort_run_time(dict0_Ssorted, dict0, intervals):\n",
    "    start_time = time.clock()\n",
    "    dict0_Ssorted[intervals] = selection_sort(dict0[intervals])\n",
    "    end_time = time.clock()\n",
    "    \n",
    "    return end_time - start_time\n",
    "\n",
    "sorting = [None]*range_in\n",
    "for intervals in range(range_in):\n",
    "    sorting[intervals] = my_thread(target=ssort_run_time, args=(dict0_Ssorted, dict0, intervals))\n",
    "    sorting[intervals].start()\n",
    "    rt0[1][intervals] = sorting[intervals].join()"
   ]
  },
  {
   "cell_type": "code",
   "execution_count": 41,
   "metadata": {},
   "outputs": [
    {
     "name": "stdout",
     "output_type": "stream",
     "text": [
      "[  6.99999998e-06   3.76600000e-02   1.30388000e-01   2.77107000e-01\n",
      "   4.91454000e-01   7.87577000e-01   1.20899400e+00   1.70565300e+00\n",
      "   1.94349500e+00   2.62474100e+00   3.20678600e+00   3.79247200e+00\n",
      "   4.78347900e+00   5.22209900e+00   6.02151000e+00   6.85224000e+00\n",
      "   7.85338800e+00   1.07723280e+01   9.96846700e+00   1.11931930e+01\n",
      "   1.30540820e+01]\n"
     ]
    }
   ],
   "source": [
    "print(rt0[1][:]) #step = 10000"
   ]
  },
  {
   "cell_type": "markdown",
   "metadata": {},
   "source": [
    "### testing merge sort"
   ]
  },
  {
   "cell_type": "code",
   "execution_count": 66,
   "metadata": {
    "collapsed": true
   },
   "outputs": [],
   "source": [
    "###testing merge sort\n",
    "def msort_run_time(dict0_Msorted, dict0, intervals):\n",
    "    start_time = time.clock()\n",
    "    dict0_Msorted[intervals] = merge_sort(dict0[intervals])\n",
    "    end_time = time.clock()\n",
    "    \n",
    "    return end_time - start_time\n",
    "\n",
    "sorting = [None]*range_in\n",
    "for intervals in range(range_in):\n",
    "    sorting[intervals] = my_thread(target=msort_run_time, args=(dict0_Msorted, dict0, intervals))\n",
    "    sorting[intervals].start()\n",
    "    rt0[2][intervals] = sorting[intervals].join()"
   ]
  },
  {
   "cell_type": "code",
   "execution_count": 67,
   "metadata": {},
   "outputs": [
    {
     "name": "stdout",
     "output_type": "stream",
     "text": [
      "[  4.99999999e-06   9.37000000e-03   2.16590000e-02   3.33900000e-02\n",
      "   7.79090000e-02   5.41740000e-02   6.21150000e-02   7.40830000e-02\n",
      "   8.17300000e-02   9.24570000e-02   1.04288000e-01   1.14774000e-01\n",
      "   1.27411000e-01   1.38906000e-01   1.48340000e-01   1.56339000e-01\n",
      "   1.67402000e-01   1.81106000e-01   1.89691000e-01   2.02832000e-01\n",
      "   2.14517000e-01]\n"
     ]
    }
   ],
   "source": [
    "print(rt0[2][:])#step = 10000"
   ]
  },
  {
   "cell_type": "markdown",
   "metadata": {},
   "source": [
    "### testing quick sort"
   ]
  },
  {
   "cell_type": "code",
   "execution_count": 21,
   "metadata": {},
   "outputs": [
    {
     "name": "stderr",
     "output_type": "stream",
     "text": [
      "Exception in thread Thread-25:\n",
      "Traceback (most recent call last):\n",
      "  File \"/home/kira/anaconda3/lib/python3.6/threading.py\", line 916, in _bootstrap_inner\n",
      "    self.run()\n",
      "  File \"<ipython-input-11-b9a1c2e9e11a>\", line 7, in run\n",
      "    self._return = self._target(*self._args, **self._kwargs)\n",
      "  File \"<ipython-input-21-24bd24821137>\", line 4, in qsort_run_time\n",
      "    dict0_Qsorted[intervals] = quick_sort(dict0[intervals])\n",
      "  File \"<ipython-input-20-f2d392b2fbfe>\", line 32, in quick_sort\n",
      "    stack[top] = h #stack[1]\n",
      "IndexError: list assignment index out of range\n",
      "\n"
     ]
    }
   ],
   "source": [
    "###testing quick sort\n",
    "def qsort_run_time(dict0_Qsorted, dict0, intervals):\n",
    "    start_time = time.clock()\n",
    "    dict0_Qsorted[intervals] = quick_sort(dict0[intervals])\n",
    "    end_time = time.clock()\n",
    "    \n",
    "    return end_time - start_time\n",
    "\n",
    "sorting = [None]*range_in\n",
    "for intervals in range(range_in):\n",
    "    sorting[intervals] = my_thread(target=qsort_run_time, args=(dict0_Qsorted, dict0, intervals))\n",
    "    sorting[intervals].start()\n",
    "    rt0[3][intervals] = sorting[intervals].join()"
   ]
  },
  {
   "cell_type": "code",
   "execution_count": 23,
   "metadata": {},
   "outputs": [
    {
     "name": "stdout",
     "output_type": "stream",
     "text": [
      "[       nan   0.030733   0.148361   0.318426   0.518428   0.810697\n",
      "   1.189843   1.556457   2.050836   2.657317   3.242209   3.856871\n",
      "   4.879805   5.757723   6.300722   7.281037   8.166113   9.867683\n",
      "  10.259809  11.817334  14.538497]\n"
     ]
    }
   ],
   "source": [
    "print(rt0[3][:])#step = 10000"
   ]
  },
  {
   "cell_type": "markdown",
   "metadata": {},
   "source": [
    "### testing heap sort"
   ]
  },
  {
   "cell_type": "code",
   "execution_count": 46,
   "metadata": {},
   "outputs": [],
   "source": [
    "###testing heap sort\n",
    "def hsort_run_time(dict0_Hsorted, dict0, intervals):\n",
    "    start_time = time.clock()\n",
    "    dict0_Hsorted[intervals] = heap_sort(dict0[intervals])\n",
    "    end_time = time.clock()\n",
    "    \n",
    "    return end_time - start_time\n",
    "\n",
    "sorting = [None]*range_in\n",
    "for intervals in range(range_in):\n",
    "    sorting[intervals] = my_thread(target=hsort_run_time, args=(dict0_Hsorted, dict0, intervals))\n",
    "    sorting[intervals].start()\n",
    "    rt0[4][intervals] = sorting[intervals].join()"
   ]
  },
  {
   "cell_type": "code",
   "execution_count": 47,
   "metadata": {},
   "outputs": [
    {
     "name": "stdout",
     "output_type": "stream",
     "text": [
      "[ 0.00014   0.004398  0.009087  0.017262  0.010901  0.015908  0.018672\n",
      "  0.027357  0.026408  0.030605  0.035887  0.038777  0.045818  0.05206\n",
      "  0.05474   0.060127  0.066235  0.075949  0.082759  0.089919  0.095735]\n"
     ]
    }
   ],
   "source": [
    "print(rt0[4][:])#step = 10000"
   ]
  },
  {
   "cell_type": "code",
   "execution_count": 32,
   "metadata": {},
   "outputs": [],
   "source": [
    "with open('presorted0_10000.csv', 'w') as p0:\n",
    "    #p0.write('''Intervals,Insertion sort,Selection sort,Merge sort,Quick sort,Heap sort''')\n",
    "    writer = csv.writer(p0)\n",
    "    writer.writerows(np.transpose(rt0))"
   ]
  },
  {
   "cell_type": "markdown",
   "metadata": {},
   "source": [
    "## Test for presortedness = 0.5"
   ]
  },
  {
   "cell_type": "code",
   "execution_count": 25,
   "metadata": {
    "collapsed": true
   },
   "outputs": [],
   "source": [
    "#(number of algorithms X number of intervals) array holding the runtime of each algorithm(row)\n",
    "#for sorting each interval's(column) array with presortedness=0.5\n",
    "rt0_5 = np.zeros((5,21))\n",
    "dict0_5_Isorted={}\n",
    "dict0_5_Ssorted={}\n",
    "dict0_5_Msorted={}\n",
    "dict0_5_Qsorted={}\n",
    "dict0_5_Hsorted={}\n",
    "\n",
    "range_in = len(dict0_5)"
   ]
  },
  {
   "cell_type": "markdown",
   "metadata": {},
   "source": [
    "### testing insertion sort"
   ]
  },
  {
   "cell_type": "code",
   "execution_count": 53,
   "metadata": {
    "collapsed": true
   },
   "outputs": [],
   "source": [
    "###testing insertion sort\n",
    "sorting = [None]*range_in\n",
    "for intervals in range(range_in):\n",
    "    sorting[intervals] = my_thread(target=isort_run_time, args=(dict0_5_Isorted, dict0_5, intervals))\n",
    "    sorting[intervals].start()\n",
    "    rt0_5[0][intervals] = sorting[intervals].join()"
   ]
  },
  {
   "cell_type": "code",
   "execution_count": 54,
   "metadata": {},
   "outputs": [
    {
     "name": "stdout",
     "output_type": "stream",
     "text": [
      "[  8.00000004e-06   2.85180000e-02   1.27816000e-01   2.43562000e-01\n",
      "   4.19577000e-01   6.52543000e-01   9.54945000e-01   1.28980800e+00\n",
      "   1.70608500e+00   2.23924900e+00   2.82973400e+00   3.27030300e+00\n",
      "   3.84175300e+00   4.54681500e+00   5.33633800e+00   6.18283600e+00\n",
      "   6.85877300e+00   8.52810500e+00   9.04957600e+00   9.95561800e+00\n",
      "   1.12451350e+01]\n"
     ]
    }
   ],
   "source": [
    "print(rt0_5[0][:])#step = 10000"
   ]
  },
  {
   "cell_type": "markdown",
   "metadata": {},
   "source": [
    "### testing selection sort"
   ]
  },
  {
   "cell_type": "code",
   "execution_count": 55,
   "metadata": {
    "collapsed": true
   },
   "outputs": [],
   "source": [
    "###testing selection sort\n",
    "sorting = [None]*range_in\n",
    "for intervals in range(range_in):\n",
    "    sorting[intervals] = my_thread(target=ssort_run_time, args=(dict0_5_Ssorted, dict0_5, intervals))\n",
    "    sorting[intervals].start()\n",
    "    rt0_5[1][intervals] = sorting[intervals].join()"
   ]
  },
  {
   "cell_type": "code",
   "execution_count": 56,
   "metadata": {},
   "outputs": [
    {
     "name": "stdout",
     "output_type": "stream",
     "text": [
      "[  8.99999998e-06   3.60890000e-02   1.48773000e-01   2.98646000e-01\n",
      "   5.43221000e-01   9.08947000e-01   1.22937600e+00   1.71161300e+00\n",
      "   2.11622800e+00   2.75034700e+00   3.38891400e+00   4.13331100e+00\n",
      "   5.12760900e+00   6.08562000e+00   6.43268500e+00   7.54243100e+00\n",
      "   9.12431900e+00   9.79614700e+00   1.09728070e+01   1.19164520e+01\n",
      "   1.37219580e+01]\n"
     ]
    }
   ],
   "source": [
    "print(rt0_5[1][:])#step = 10000"
   ]
  },
  {
   "cell_type": "markdown",
   "metadata": {},
   "source": [
    "### testing merge sort"
   ]
  },
  {
   "cell_type": "code",
   "execution_count": 61,
   "metadata": {
    "collapsed": true
   },
   "outputs": [],
   "source": [
    "###testing merge sort\n",
    "sorting = [None]*range_in\n",
    "for intervals in range(range_in):\n",
    "    sorting[intervals] = my_thread(target=msort_run_time, args=(dict0_5_Msorted, dict0_5, intervals))\n",
    "    sorting[intervals].start()\n",
    "    rt0_5[2][intervals] = sorting[intervals].join()"
   ]
  },
  {
   "cell_type": "code",
   "execution_count": 62,
   "metadata": {},
   "outputs": [
    {
     "name": "stdout",
     "output_type": "stream",
     "text": [
      "[  6.99999998e-06   1.14230000e-02   1.89250000e-02   3.19930000e-02\n",
      "   4.79000000e-02   5.21650000e-02   6.02740000e-02   7.26720000e-02\n",
      "   8.19460000e-02   9.33900000e-02   1.05078000e-01   1.15683000e-01\n",
      "   1.26969000e-01   1.37429000e-01   1.47202000e-01   1.55890000e-01\n",
      "   1.67153000e-01   1.79434000e-01   1.91567000e-01   2.01405000e-01\n",
      "   2.14439000e-01]\n"
     ]
    }
   ],
   "source": [
    "print(rt0_5[2][:])#step = 10000"
   ]
  },
  {
   "cell_type": "markdown",
   "metadata": {},
   "source": [
    "### testing quick sort"
   ]
  },
  {
   "cell_type": "code",
   "execution_count": 26,
   "metadata": {},
   "outputs": [
    {
     "name": "stderr",
     "output_type": "stream",
     "text": [
      "Exception in thread Thread-46:\n",
      "Traceback (most recent call last):\n",
      "  File \"/home/kira/anaconda3/lib/python3.6/threading.py\", line 916, in _bootstrap_inner\n",
      "    self.run()\n",
      "  File \"<ipython-input-11-b9a1c2e9e11a>\", line 7, in run\n",
      "    self._return = self._target(*self._args, **self._kwargs)\n",
      "  File \"<ipython-input-21-24bd24821137>\", line 4, in qsort_run_time\n",
      "    dict0_Qsorted[intervals] = quick_sort(dict0[intervals])\n",
      "  File \"<ipython-input-22-f2d392b2fbfe>\", line 32, in quick_sort\n",
      "    stack[top] = h #stack[1]\n",
      "IndexError: list assignment index out of range\n",
      "\n"
     ]
    }
   ],
   "source": [
    "###testing quick sort\n",
    "sorting = [None]*range_in\n",
    "for intervals in range(range_in):\n",
    "    sorting[intervals] = my_thread(target=qsort_run_time, args=(dict0_5_Qsorted, dict0_5, intervals))\n",
    "    sorting[intervals].start()\n",
    "    rt0_5[3][intervals] = sorting[intervals].join()"
   ]
  },
  {
   "cell_type": "code",
   "execution_count": 27,
   "metadata": {
    "scrolled": false
   },
   "outputs": [
    {
     "name": "stdout",
     "output_type": "stream",
     "text": [
      "[      nan  0.004343  0.009804  0.009952  0.010656  0.017548  0.019587\n",
      "  0.020925  0.030566  0.034355  0.034572  0.057887  0.040888  0.042716\n",
      "  0.04815   0.048295  0.056153  0.055056  0.062451  0.067739  0.068635]\n"
     ]
    }
   ],
   "source": [
    "print(rt0_5[3][:])#step = 10000"
   ]
  },
  {
   "cell_type": "markdown",
   "metadata": {},
   "source": [
    "### testing heap sort"
   ]
  },
  {
   "cell_type": "code",
   "execution_count": 70,
   "metadata": {
    "collapsed": true
   },
   "outputs": [],
   "source": [
    "###testing heap sort\n",
    "sorting = [None]*range_in\n",
    "for intervals in range(range_in):\n",
    "    sorting[intervals] = my_thread(target=hsort_run_time, args=(dict0_5_Hsorted, dict0_5, intervals))\n",
    "    sorting[intervals].start()\n",
    "    rt0_5[4][intervals] = sorting[intervals].join()"
   ]
  },
  {
   "cell_type": "code",
   "execution_count": 71,
   "metadata": {},
   "outputs": [
    {
     "name": "stdout",
     "output_type": "stream",
     "text": [
      "[  1.40000000e-05   4.32100000e-03   1.47680000e-02   1.99250000e-02\n",
      "   1.85140000e-02   1.60070000e-02   1.79350000e-02   3.54920000e-02\n",
      "   3.15300000e-02   3.13560000e-02   3.47260000e-02   4.11070000e-02\n",
      "   4.31870000e-02   5.18010000e-02   5.57720000e-02   6.17090000e-02\n",
      "   6.68610000e-02   7.37020000e-02   8.03160000e-02   8.91040000e-02\n",
      "   9.36140000e-02]\n"
     ]
    }
   ],
   "source": [
    "print(rt0_5[4][:])#step = 10000"
   ]
  },
  {
   "cell_type": "code",
   "execution_count": 33,
   "metadata": {
    "collapsed": true
   },
   "outputs": [],
   "source": [
    "with open('presorted0_5_10000.csv', 'w') as p0_5:\n",
    "    #p0.write('''Intervals,Insertion sort,Selection sort,Merge sort,Quick sort,Heap sort''')\n",
    "    writer = csv.writer(p0_5)\n",
    "    writer.writerows(np.transpose(rt0_5))"
   ]
  },
  {
   "cell_type": "markdown",
   "metadata": {},
   "source": [
    "## Test for presortedness = 1"
   ]
  },
  {
   "cell_type": "code",
   "execution_count": 28,
   "metadata": {
    "collapsed": true
   },
   "outputs": [],
   "source": [
    "#(number of algorithms X number of intervals) array holding the runtime of each algorithm(row)\n",
    "#for sorting each interval's(column) array with presortedness=1\n",
    "rt1 = np.zeros((5,21))\n",
    "dict1_Isorted={}\n",
    "dict1_Ssorted={}\n",
    "dict1_Msorted={}\n",
    "dict1_Qsorted={}\n",
    "dict1_Hsorted={}\n",
    "\n",
    "range_in = len(dict1)"
   ]
  },
  {
   "cell_type": "markdown",
   "metadata": {},
   "source": [
    "### testing insertion sort"
   ]
  },
  {
   "cell_type": "code",
   "execution_count": 75,
   "metadata": {
    "collapsed": true
   },
   "outputs": [],
   "source": [
    "###testing insertion sort\n",
    "sorting = [None]*range_in\n",
    "for intervals in range(range_in):\n",
    "    sorting[intervals] = my_thread(target=isort_run_time, args=(dict1_Isorted, dict1, intervals))\n",
    "    sorting[intervals].start()\n",
    "    rt1[0][intervals] = sorting[intervals].join()"
   ]
  },
  {
   "cell_type": "code",
   "execution_count": 76,
   "metadata": {},
   "outputs": [
    {
     "name": "stdout",
     "output_type": "stream",
     "text": [
      "[  7.00000010e-06   7.95000000e-04   1.34000000e-03   1.01100000e-03\n",
      "   1.41400000e-03   3.53500000e-03   1.98400000e-03   2.31900000e-03\n",
      "   5.56500000e-03   2.99700000e-03   6.99100000e-03   3.70500000e-03\n",
      "   8.21800000e-03   4.45300000e-03   4.82200000e-03   5.25400000e-03\n",
      "   5.81600000e-03   8.37400000e-03   6.69500000e-03   6.58300000e-03\n",
      "   6.99700000e-03]\n"
     ]
    }
   ],
   "source": [
    "print(rt1[0][:])#step = 10000"
   ]
  },
  {
   "cell_type": "markdown",
   "metadata": {},
   "source": [
    "### testing selection sort"
   ]
  },
  {
   "cell_type": "code",
   "execution_count": 77,
   "metadata": {
    "collapsed": true
   },
   "outputs": [],
   "source": [
    "###testing selection sort\n",
    "sorting = [None]*range_in\n",
    "for intervals in range(range_in):\n",
    "    sorting[intervals] = my_thread(target=ssort_run_time, args=(dict1_Ssorted, dict1, intervals))\n",
    "    sorting[intervals].start()\n",
    "    rt1[1][intervals] = sorting[intervals].join()"
   ]
  },
  {
   "cell_type": "code",
   "execution_count": 78,
   "metadata": {},
   "outputs": [
    {
     "name": "stdout",
     "output_type": "stream",
     "text": [
      "[  9.99999997e-06   3.40650000e-02   1.41444000e-01   2.99731000e-01\n",
      "   5.44275000e-01   8.72680000e-01   1.21999100e+00   1.63406300e+00\n",
      "   2.12406900e+00   2.74160000e+00   3.54581000e+00   4.07178900e+00\n",
      "   4.97247600e+00   5.74211100e+00   6.61009100e+00   7.61692200e+00\n",
      "   8.55860700e+00   9.96600000e+00   1.14004120e+01   1.23379840e+01\n",
      "   1.39346580e+01]\n"
     ]
    }
   ],
   "source": [
    "print(rt1[1][:])#step = 10000"
   ]
  },
  {
   "cell_type": "markdown",
   "metadata": {},
   "source": [
    "### testing merge sort"
   ]
  },
  {
   "cell_type": "code",
   "execution_count": 79,
   "metadata": {
    "collapsed": true
   },
   "outputs": [],
   "source": [
    "###testing merge sort\n",
    "sorting = [None]*range_in\n",
    "for intervals in range(range_in):\n",
    "    sorting[intervals] = my_thread(target=msort_run_time, args=(dict1_Msorted, dict1, intervals))\n",
    "    sorting[intervals].start()\n",
    "    rt1[2][intervals] = sorting[intervals].join()"
   ]
  },
  {
   "cell_type": "code",
   "execution_count": 83,
   "metadata": {},
   "outputs": [
    {
     "name": "stdout",
     "output_type": "stream",
     "text": [
      "[  4.99999999e-06   1.19690000e-02   3.24040000e-02   3.07880000e-02\n",
      "   4.50810000e-02   5.04200000e-02   5.96890000e-02   7.26030000e-02\n",
      "   7.85360000e-02   9.08110000e-02   1.01102000e-01   1.10589000e-01\n",
      "   1.21102000e-01   1.29936000e-01   1.41054000e-01   1.51217000e-01\n",
      "   1.61675000e-01   1.73402000e-01   1.84584000e-01   1.95163000e-01\n",
      "   2.04039000e-01]\n"
     ]
    }
   ],
   "source": [
    "print(rt1[2][:])#step = 10000"
   ]
  },
  {
   "cell_type": "markdown",
   "metadata": {},
   "source": [
    "### testing quick sort"
   ]
  },
  {
   "cell_type": "code",
   "execution_count": 29,
   "metadata": {},
   "outputs": [
    {
     "name": "stderr",
     "output_type": "stream",
     "text": [
      "Exception in thread Thread-67:\n",
      "Traceback (most recent call last):\n",
      "  File \"/home/kira/anaconda3/lib/python3.6/threading.py\", line 916, in _bootstrap_inner\n",
      "    self.run()\n",
      "  File \"<ipython-input-11-b9a1c2e9e11a>\", line 7, in run\n",
      "    self._return = self._target(*self._args, **self._kwargs)\n",
      "  File \"<ipython-input-21-24bd24821137>\", line 4, in qsort_run_time\n",
      "    dict0_Qsorted[intervals] = quick_sort(dict0[intervals])\n",
      "  File \"<ipython-input-22-f2d392b2fbfe>\", line 32, in quick_sort\n",
      "    stack[top] = h #stack[1]\n",
      "IndexError: list assignment index out of range\n",
      "\n"
     ]
    }
   ],
   "source": [
    "###testing quick sort\n",
    "sorting = [None]*range_in\n",
    "for intervals in range(range_in):\n",
    "    sorting[intervals] = my_thread(target=qsort_run_time, args=(dict1_Qsorted, dict1, intervals))\n",
    "    sorting[intervals].start()\n",
    "    rt1[3][intervals] = sorting[intervals].join()"
   ]
  },
  {
   "cell_type": "code",
   "execution_count": 35,
   "metadata": {
    "scrolled": false
   },
   "outputs": [
    {
     "name": "stdout",
     "output_type": "stream",
     "text": [
      "[       nan   0.072961   0.315968   0.637747   1.109363   1.723976\n",
      "   2.537829   3.376203   4.403646   5.587223   6.903803   8.350339\n",
      "   9.953891  11.677236  13.684934  15.663349  17.710059  20.015208\n",
      "  23.922487  25.083723  28.065981]\n"
     ]
    }
   ],
   "source": [
    "print(rt1[3][:])#step = 10000"
   ]
  },
  {
   "cell_type": "markdown",
   "metadata": {},
   "source": [
    "### testing heap sort"
   ]
  },
  {
   "cell_type": "code",
   "execution_count": 84,
   "metadata": {
    "collapsed": true
   },
   "outputs": [],
   "source": [
    "###testing heap sort\n",
    "sorting = [None]*range_in\n",
    "for intervals in range(range_in):\n",
    "    sorting[intervals] = my_thread(target=hsort_run_time, args=(dict1_Hsorted, dict1, intervals))\n",
    "    sorting[intervals].start()\n",
    "    rt1[4][intervals] = sorting[intervals].join()"
   ]
  },
  {
   "cell_type": "code",
   "execution_count": 85,
   "metadata": {},
   "outputs": [
    {
     "name": "stdout",
     "output_type": "stream",
     "text": [
      "[  1.80000001e-05   8.70900000e-03   1.63560000e-02   1.40280000e-02\n",
      "   1.97210000e-02   1.98020000e-02   1.90310000e-02   2.12960000e-02\n",
      "   3.06930000e-02   3.19180000e-02   3.44100000e-02   3.85200000e-02\n",
      "   4.37690000e-02   5.03590000e-02   5.57080000e-02   6.20610000e-02\n",
      "   6.59070000e-02   7.49540000e-02   7.96350000e-02   8.75720000e-02\n",
      "   9.68980000e-02]\n"
     ]
    }
   ],
   "source": [
    "print(rt1[4][:])#step = 10000"
   ]
  },
  {
   "cell_type": "code",
   "execution_count": 34,
   "metadata": {
    "collapsed": true
   },
   "outputs": [],
   "source": [
    "with open('presorted1_10000.csv', 'w') as p1:\n",
    "    #p0.write('''Intervals,Insertion sort,Selection sort,Merge sort,Quick sort,Heap sort''')\n",
    "    writer = csv.writer(p1)\n",
    "    writer.writerows(np.transpose(rt1))"
   ]
  },
  {
   "cell_type": "markdown",
   "metadata": {},
   "source": [
    "# End of tests"
   ]
  },
  {
   "cell_type": "code",
   "execution_count": 88,
   "metadata": {},
   "outputs": [
    {
     "data": {
      "image/png": "[encoded data removed]",
      "text/plain": [
       "<matplotlib.figure.Figure at 0x7fb32815c400>"
      ]
     },
     "metadata": {},
     "output_type": "display_data"
    },
    {
     "data": {
      "image/png": "[encoded data removed]",
      "text/plain": [
       "<matplotlib.figure.Figure at 0x7fb328157358>"
      ]
     },
     "metadata": {},
     "output_type": "display_data"
    }
   ],
   "source": [
    "a = [1,2,3]\n",
    "b = [4,5,6]\n",
    "c = [7,8,9]\n",
    "plt.plot( intervals_array, rt0[0][:], color='g')  #insertion sort\n",
    "plt.plot( intervals_array, rt0[1][:], color='b')  #selection sort\n",
    "plt.plot( intervals_array, rt0[2][:], color='r')  #merge sort\n",
    "plt.plot( intervals_array, rt0[3][:], color='y')  #quick sort\n",
    "plt.plot( intervals_array, rt0[4][:], color='orange')   #heap sort\n",
    "plt.ylabel(\"Run time\")\n",
    "plt.xlabel(\"Number of inputs\")\n",
    "plt.savefig('presortednes0 with 2000.png')\n",
    "plt.show()\n",
    "\n",
    "pyl.plot( rt0[0][:], intervals_array, color='g', label='insertion sort')  #insertion sort\n",
    "pyl.plot( rt0[1][:], intervals_array, color='b', label='selection sort')  #selection sort\n",
    "pyl.plot( rt0[2][:], intervals_array, color='r', label='merge sort')  #merge sort\n",
    "pyl.plot( rt0[3][:], intervals_array, color='y', label='quick sort')  #quick sort\n",
    "pyl.plot( rt0[4][:], intervals_array, color='orange', label='heap sort')   #heap sort\n",
    "pyl.legend( loc=1, ncol=5)\n",
    "pyl.xlabel(\"Run time\")\n",
    "pyl.ylabel(\"Number of inputs\")\n",
    "pyl.show()\n"
   ]
  },
  {
   "cell_type": "code",
   "execution_count": 22,
   "metadata": {},
   "outputs": [],
   "source": [
    "# Python program for implementation of Quicksort \n",
    "\n",
    "# This function is same in both iterative and recursive \n",
    "def partition(arr,l,h): \n",
    "    i = ( l - 1 ) \n",
    "    x = arr[h] \n",
    "\n",
    "    for j in range(l , h): \n",
    "        if arr[j] <= x: \n",
    "\n",
    "            i = i+1\n",
    "            arr[i],arr[j] = arr[j],arr[i] \n",
    "\n",
    "    arr[i+1],arr[h] = arr[h],arr[i+1] \n",
    "    return (i+1) \n",
    "\n",
    "# Function to do Quick sort \n",
    "# arr[] --> Array to be sorted, \n",
    "# l --> Starting index, \n",
    "# h --> Ending index \n",
    "def quick_sort(arr): \n",
    "    l = 0\n",
    "    h = arr.shape[0] - 1\n",
    "    size = h-l+1\n",
    "    stack = [0] * (size) \n",
    "\n",
    "    top = -1\n",
    "\n",
    "    top = top + 1\n",
    "    stack[top] = l #stack[0]\n",
    "    top = top + 1\n",
    "    stack[top] = h #stack[1]\n",
    "\n",
    "    while top >= 0: \n",
    "    \n",
    "        h = stack[top] \n",
    "        top = top - 1\n",
    "        l = stack[top] \n",
    "        top = top - 1\n",
    " \n",
    "        p = partition( arr, l, h ) \n",
    "\n",
    "        if p-1 > l: \n",
    "            top = top + 1\n",
    "            stack[top] = l \n",
    "            top = top + 1\n",
    "            stack[top] = p - 1\n",
    "\n",
    "        if p+1 < h: \n",
    "            top = top + 1\n",
    "            stack[top] = p + 1\n",
    "            top = top + 1\n",
    "            stack[top] = h \n",
    "            \n",
    "    return arr\n"
   ]
  },
  {
   "cell_type": "code",
   "execution_count": null,
   "metadata": {
    "collapsed": true
   },
   "outputs": [],
   "source": []
  }
 ],
 "metadata": {
  "kernelspec": {
   "display_name": "Python 3",
   "language": "python",
   "name": "python3"
  },
  "language_info": {
   "codemirror_mode": {
    "name": "ipython",
    "version": 3
   },
   "file_extension": ".py",
   "mimetype": "text/x-python",
   "name": "python",
   "nbconvert_exporter": "python",
   "pygments_lexer": "ipython3",
   "version": "3.6.3"
  }
 },
 "nbformat": 4,
 "nbformat_minor": 2
}
