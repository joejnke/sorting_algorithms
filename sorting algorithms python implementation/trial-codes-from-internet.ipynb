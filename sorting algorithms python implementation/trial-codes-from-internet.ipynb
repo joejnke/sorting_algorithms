{
 "cells": [
  {
   "cell_type": "code",
   "execution_count": 2,
   "metadata": {},
   "outputs": [
    {
     "name": "stdout",
     "output_type": "stream",
     "text": [
      "[17, 17, 20, 26, 44, 54, 55, 77, 93]\n"
     ]
    }
   ],
   "source": [
    "def insertionSort(alist):\n",
    "   for index in range(1,len(alist)):\n",
    "\n",
    "     currentvalue = alist[index]\n",
    "     position = index\n",
    "\n",
    "     while position>0 and alist[position-1]>currentvalue:\n",
    "         alist[position]=alist[position-1]\n",
    "         position = position-1\n",
    "\n",
    "     alist[position]=currentvalue\n",
    "\n",
    "alist = [54,26,93,17,77,17,44,55,20]\n",
    "insertionSort(alist)\n",
    "print(alist)"
   ]
  },
  {
   "cell_type": "code",
   "execution_count": null,
   "metadata": {
    "collapsed": true
   },
   "outputs": [],
   "source": []
  }
 ],
 "metadata": {
  "kernelspec": {
   "display_name": "Python 3",
   "language": "python",
   "name": "python3"
  },
  "language_info": {
   "codemirror_mode": {
    "name": "ipython",
    "version": 3
   },
   "file_extension": ".py",
   "mimetype": "text/x-python",
   "name": "python",
   "nbconvert_exporter": "python",
   "pygments_lexer": "ipython3",
   "version": "3.6.3"
  }
 },
 "nbformat": 4,
 "nbformat_minor": 2
}
